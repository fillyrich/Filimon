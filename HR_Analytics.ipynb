{
 "cells": [
  {
   "cell_type": "markdown",
   "metadata": {},
   "source": [
    "# HR Analytics: Job Change of Data Scientists\n",
    "\n",
    "Predict the probability of a candidate will work for the company\n",
    "\n",
    "## Features\n",
    "\n",
    "\n",
    "1. enrollee_id : Unique ID for candidate\n",
    "\n",
    "2.   city: City code\n",
    "\n",
    "3.   city_ development _index : Developement index of the city (scaled)\n",
    "\n",
    "4.  gender: Gender of candidate\n",
    "\n",
    "5.    relevent_experience: Relevant experience of candidate\n",
    "\n",
    "6.  enrolled_university: Type of University course enrolled if any\n",
    "\n",
    "7.  education_level: Education level of candidate\n",
    "\n",
    "8.    major_discipline :Education major discipline of candidate\n",
    "\n",
    "9.    experience: Candidate total experience in years\n",
    "\n",
    "10. company_size: No of employees in current employer's company\n",
    "\n",
    "11. company_type : Type of current employer\n",
    "\n",
    "12. lastnewjob: Difference in years between previous job and current job\n",
    "\n",
    "13. training_hours: training hours completed\n",
    "\n",
    "14. target: 0 – Not looking for job change, 1 – Looking for a job change\n"
   ]
  },
  {
   "cell_type": "code",
   "execution_count": 1,
   "metadata": {},
   "outputs": [],
   "source": [
    "# Import the data visualation and manipulation tools \n",
    "import numpy as np\n",
    "import pandas as pd\n",
    "import seaborn as sns\n",
    "import matplotlib.pyplot as plt "
   ]
  },
  {
   "cell_type": "code",
   "execution_count": 2,
   "metadata": {},
   "outputs": [],
   "source": [
    "# Models from scikit-Learn \n",
    "from sklearn.ensemble import RandomForestClassifier, GradientBoostingClassifier\n",
    "from sklearn.preprocessing import StandardScaler\n",
    "from sklearn.utils import resample\n",
    "from sklearn.linear_model import LogisticRegression\n",
    "from sklearn.neighbors import KNeighborsClassifier\n",
    "from sklearn.pipeline import Pipeline \n",
    "from sklearn.impute import SimpleImputer\n",
    "from sklearn.preprocessing import StandardScaler,OneHotEncoder\n",
    "from sklearn.compose import ColumnTransformer\n",
    "# resample by adding samples to minority class using SMOTE\n",
    "from imblearn.combine import SMOTETomek\n",
    "from imblearn.under_sampling import TomekLinks\n",
    "\n",
    "# Model Evaluations\n",
    "from sklearn.model_selection import train_test_split , cross_val_score\n",
    "from sklearn.model_selection import RandomizedSearchCV, GridSearchCV\n",
    "from sklearn.metrics import confusion_matrix\n",
    "from sklearn.metrics import precision_score, recall_score , f1_score\n"
   ]
  },
  {
   "cell_type": "code",
   "execution_count": 3,
   "metadata": {},
   "outputs": [],
   "source": [
    "%matplotlib inline"
   ]
  },
  {
   "cell_type": "markdown",
   "metadata": {},
   "source": [
    "## Load Data "
   ]
  },
  {
   "cell_type": "code",
   "execution_count": 4,
   "metadata": {},
   "outputs": [],
   "source": [
    "df = pd.read_csv('aug_train.csv')"
   ]
  },
  {
   "cell_type": "code",
   "execution_count": 5,
   "metadata": {},
   "outputs": [
    {
     "data": {
      "text/html": [
       "<div>\n",
       "<style scoped>\n",
       "    .dataframe tbody tr th:only-of-type {\n",
       "        vertical-align: middle;\n",
       "    }\n",
       "\n",
       "    .dataframe tbody tr th {\n",
       "        vertical-align: top;\n",
       "    }\n",
       "\n",
       "    .dataframe thead th {\n",
       "        text-align: right;\n",
       "    }\n",
       "</style>\n",
       "<table border=\"1\" class=\"dataframe\">\n",
       "  <thead>\n",
       "    <tr style=\"text-align: right;\">\n",
       "      <th></th>\n",
       "      <th>enrollee_id</th>\n",
       "      <th>city</th>\n",
       "      <th>city_development_index</th>\n",
       "      <th>gender</th>\n",
       "      <th>relevent_experience</th>\n",
       "      <th>enrolled_university</th>\n",
       "      <th>education_level</th>\n",
       "      <th>major_discipline</th>\n",
       "      <th>experience</th>\n",
       "      <th>company_size</th>\n",
       "      <th>company_type</th>\n",
       "      <th>last_new_job</th>\n",
       "      <th>training_hours</th>\n",
       "      <th>target</th>\n",
       "    </tr>\n",
       "  </thead>\n",
       "  <tbody>\n",
       "    <tr>\n",
       "      <th>0</th>\n",
       "      <td>8949</td>\n",
       "      <td>city_103</td>\n",
       "      <td>0.920</td>\n",
       "      <td>Male</td>\n",
       "      <td>Has relevent experience</td>\n",
       "      <td>no_enrollment</td>\n",
       "      <td>Graduate</td>\n",
       "      <td>STEM</td>\n",
       "      <td>&gt;20</td>\n",
       "      <td>NaN</td>\n",
       "      <td>NaN</td>\n",
       "      <td>1</td>\n",
       "      <td>36</td>\n",
       "      <td>1.0</td>\n",
       "    </tr>\n",
       "    <tr>\n",
       "      <th>1</th>\n",
       "      <td>29725</td>\n",
       "      <td>city_40</td>\n",
       "      <td>0.776</td>\n",
       "      <td>Male</td>\n",
       "      <td>No relevent experience</td>\n",
       "      <td>no_enrollment</td>\n",
       "      <td>Graduate</td>\n",
       "      <td>STEM</td>\n",
       "      <td>15</td>\n",
       "      <td>50-99</td>\n",
       "      <td>Pvt Ltd</td>\n",
       "      <td>&gt;4</td>\n",
       "      <td>47</td>\n",
       "      <td>0.0</td>\n",
       "    </tr>\n",
       "    <tr>\n",
       "      <th>2</th>\n",
       "      <td>11561</td>\n",
       "      <td>city_21</td>\n",
       "      <td>0.624</td>\n",
       "      <td>NaN</td>\n",
       "      <td>No relevent experience</td>\n",
       "      <td>Full time course</td>\n",
       "      <td>Graduate</td>\n",
       "      <td>STEM</td>\n",
       "      <td>5</td>\n",
       "      <td>NaN</td>\n",
       "      <td>NaN</td>\n",
       "      <td>never</td>\n",
       "      <td>83</td>\n",
       "      <td>0.0</td>\n",
       "    </tr>\n",
       "    <tr>\n",
       "      <th>3</th>\n",
       "      <td>33241</td>\n",
       "      <td>city_115</td>\n",
       "      <td>0.789</td>\n",
       "      <td>NaN</td>\n",
       "      <td>No relevent experience</td>\n",
       "      <td>NaN</td>\n",
       "      <td>Graduate</td>\n",
       "      <td>Business Degree</td>\n",
       "      <td>&lt;1</td>\n",
       "      <td>NaN</td>\n",
       "      <td>Pvt Ltd</td>\n",
       "      <td>never</td>\n",
       "      <td>52</td>\n",
       "      <td>1.0</td>\n",
       "    </tr>\n",
       "    <tr>\n",
       "      <th>4</th>\n",
       "      <td>666</td>\n",
       "      <td>city_162</td>\n",
       "      <td>0.767</td>\n",
       "      <td>Male</td>\n",
       "      <td>Has relevent experience</td>\n",
       "      <td>no_enrollment</td>\n",
       "      <td>Masters</td>\n",
       "      <td>STEM</td>\n",
       "      <td>&gt;20</td>\n",
       "      <td>50-99</td>\n",
       "      <td>Funded Startup</td>\n",
       "      <td>4</td>\n",
       "      <td>8</td>\n",
       "      <td>0.0</td>\n",
       "    </tr>\n",
       "  </tbody>\n",
       "</table>\n",
       "</div>"
      ],
      "text/plain": [
       "   enrollee_id      city  city_development_index gender  \\\n",
       "0         8949  city_103                   0.920   Male   \n",
       "1        29725   city_40                   0.776   Male   \n",
       "2        11561   city_21                   0.624    NaN   \n",
       "3        33241  city_115                   0.789    NaN   \n",
       "4          666  city_162                   0.767   Male   \n",
       "\n",
       "       relevent_experience enrolled_university education_level  \\\n",
       "0  Has relevent experience       no_enrollment        Graduate   \n",
       "1   No relevent experience       no_enrollment        Graduate   \n",
       "2   No relevent experience    Full time course        Graduate   \n",
       "3   No relevent experience                 NaN        Graduate   \n",
       "4  Has relevent experience       no_enrollment         Masters   \n",
       "\n",
       "  major_discipline experience company_size    company_type last_new_job  \\\n",
       "0             STEM        >20          NaN             NaN            1   \n",
       "1             STEM         15        50-99         Pvt Ltd           >4   \n",
       "2             STEM          5          NaN             NaN        never   \n",
       "3  Business Degree         <1          NaN         Pvt Ltd        never   \n",
       "4             STEM        >20        50-99  Funded Startup            4   \n",
       "\n",
       "   training_hours  target  \n",
       "0              36     1.0  \n",
       "1              47     0.0  \n",
       "2              83     0.0  \n",
       "3              52     1.0  \n",
       "4               8     0.0  "
      ]
     },
     "execution_count": 5,
     "metadata": {},
     "output_type": "execute_result"
    }
   ],
   "source": [
    "df.head()"
   ]
  },
  {
   "cell_type": "code",
   "execution_count": null,
   "metadata": {},
   "outputs": [],
   "source": []
  },
  {
   "cell_type": "markdown",
   "metadata": {},
   "source": [
    "## Data Explolatory "
   ]
  },
  {
   "cell_type": "code",
   "execution_count": 6,
   "metadata": {},
   "outputs": [
    {
     "name": "stdout",
     "output_type": "stream",
     "text": [
      "<class 'pandas.core.frame.DataFrame'>\n",
      "RangeIndex: 19158 entries, 0 to 19157\n",
      "Data columns (total 14 columns):\n",
      " #   Column                  Non-Null Count  Dtype  \n",
      "---  ------                  --------------  -----  \n",
      " 0   enrollee_id             19158 non-null  int64  \n",
      " 1   city                    19158 non-null  object \n",
      " 2   city_development_index  19158 non-null  float64\n",
      " 3   gender                  14650 non-null  object \n",
      " 4   relevent_experience     19158 non-null  object \n",
      " 5   enrolled_university     18772 non-null  object \n",
      " 6   education_level         18698 non-null  object \n",
      " 7   major_discipline        16345 non-null  object \n",
      " 8   experience              19093 non-null  object \n",
      " 9   company_size            13220 non-null  object \n",
      " 10  company_type            13018 non-null  object \n",
      " 11  last_new_job            18735 non-null  object \n",
      " 12  training_hours          19158 non-null  int64  \n",
      " 13  target                  19158 non-null  float64\n",
      "dtypes: float64(2), int64(2), object(10)\n",
      "memory usage: 2.0+ MB\n"
     ]
    }
   ],
   "source": [
    "df.info()"
   ]
  },
  {
   "cell_type": "code",
   "execution_count": 7,
   "metadata": {},
   "outputs": [
    {
     "data": {
      "text/plain": [
       "enrollee_id                  0\n",
       "city                         0\n",
       "city_development_index       0\n",
       "gender                    4508\n",
       "relevent_experience          0\n",
       "enrolled_university        386\n",
       "education_level            460\n",
       "major_discipline          2813\n",
       "experience                  65\n",
       "company_size              5938\n",
       "company_type              6140\n",
       "last_new_job               423\n",
       "training_hours               0\n",
       "target                       0\n",
       "dtype: int64"
      ]
     },
     "execution_count": 7,
     "metadata": {},
     "output_type": "execute_result"
    }
   ],
   "source": [
    "df.isnull().sum() # check missing data "
   ]
  },
  {
   "cell_type": "code",
   "execution_count": 8,
   "metadata": {},
   "outputs": [
    {
     "data": {
      "text/plain": [
       "<AxesSubplot:>"
      ]
     },
     "execution_count": 8,
     "metadata": {},
     "output_type": "execute_result"
    },
    {
     "data": {
      "image/png": "[encoded data removed]",
      "text/plain": [
       "<Figure size 1080x576 with 2 Axes>"
      ]
     },
     "metadata": {
      "needs_background": "light"
     },
     "output_type": "display_data"
    }
   ],
   "source": [
    "plt.figure(figsize=(15,8))\n",
    "sns.heatmap(df.isnull(),yticklabels=False,cmap='viridis') "
   ]
  },
  {
   "cell_type": "code",
   "execution_count": 9,
   "metadata": {},
   "outputs": [
    {
     "data": {
      "text/plain": [
       "enrollee_id               0.000000\n",
       "city                      0.000000\n",
       "city_development_index    0.000000\n",
       "gender                    0.235306\n",
       "relevent_experience       0.000000\n",
       "enrolled_university       0.020148\n",
       "education_level           0.024011\n",
       "major_discipline          0.146832\n",
       "experience                0.003393\n",
       "company_size              0.309949\n",
       "company_type              0.320493\n",
       "last_new_job              0.022080\n",
       "training_hours            0.000000\n",
       "target                    0.000000\n",
       "dtype: float64"
      ]
     },
     "execution_count": 9,
     "metadata": {},
     "output_type": "execute_result"
    }
   ],
   "source": [
    "df.isnull().mean() # percentage of missing data "
   ]
  },
  {
   "cell_type": "code",
   "execution_count": 10,
   "metadata": {},
   "outputs": [
    {
     "data": {
      "text/plain": [
       "<AxesSubplot:xlabel='target', ylabel='count'>"
      ]
     },
     "execution_count": 10,
     "metadata": {},
     "output_type": "execute_result"
    },
    {
     "data": {
      "image/png": "[encoded data removed]",
      "text/plain": [
       "<Figure size 432x288 with 1 Axes>"
      ]
     },
     "metadata": {
      "needs_background": "light"
     },
     "output_type": "display_data"
    }
   ],
   "source": [
    "sns.countplot(x='target',data=df) # check countplot of target"
   ]
  },
  {
   "cell_type": "code",
   "execution_count": 11,
   "metadata": {},
   "outputs": [
    {
     "data": {
      "text/plain": [
       "<AxesSubplot:xlabel='training_hours', ylabel='education_level'>"
      ]
     },
     "execution_count": 11,
     "metadata": {},
     "output_type": "execute_result"
    },
    {
     "data": {
      "image/png": "[encoded data removed]",
      "text/plain": [
       "<Figure size 432x288 with 1 Axes>"
      ]
     },
     "metadata": {
      "needs_background": "light"
     },
     "output_type": "display_data"
    }
   ],
   "source": [
    "sns.barplot(x='training_hours',y='education_level',data=df)"
   ]
  },
  {
   "cell_type": "code",
   "execution_count": 12,
   "metadata": {},
   "outputs": [
    {
     "data": {
      "text/plain": [
       "<AxesSubplot:xlabel='training_hours', ylabel='education_level'>"
      ]
     },
     "execution_count": 12,
     "metadata": {},
     "output_type": "execute_result"
    },
    {
     "data": {
      "image/png": "[encoded data removed]",
      "text/plain": [
       "<Figure size 432x288 with 1 Axes>"
      ]
     },
     "metadata": {
      "needs_background": "light"
     },
     "output_type": "display_data"
    }
   ],
   "source": [
    "order = df.groupby([\"education_level\"])[\"training_hours\"].mean().sort_values(ascending=False).index\n",
    "\n",
    "sns.barplot(x='training_hours',y='education_level',data=df,order=order)"
   ]
  },
  {
   "cell_type": "code",
   "execution_count": 13,
   "metadata": {},
   "outputs": [
    {
     "data": {
      "image/png": "[encoded data removed]",
      "text/plain": [
       "<Figure size 864x576 with 1 Axes>"
      ]
     },
     "metadata": {},
     "output_type": "display_data"
    }
   ],
   "source": [
    "plt.figure(figsize=(12,8))\n",
    "ax = df['education_level'].value_counts().plot(kind='pie',autopct='%1.1f%%')\n",
    "ax.yaxis.set_visible(False)\n",
    "plt.title('Education_level');"
   ]
  },
  {
   "cell_type": "code",
   "execution_count": 14,
   "metadata": {},
   "outputs": [
    {
     "data": {
      "text/plain": [
       "<AxesSubplot:>"
      ]
     },
     "execution_count": 14,
     "metadata": {},
     "output_type": "execute_result"
    },
    {
     "data": {
      "image/png": "[encoded data removed]",
      "text/plain": [
       "<Figure size 432x288 with 1 Axes>"
      ]
     },
     "metadata": {
      "needs_background": "light"
     },
     "output_type": "display_data"
    }
   ],
   "source": [
    "df['relevent_experience'].value_counts().plot.bar()"
   ]
  },
  {
   "cell_type": "code",
   "execution_count": 15,
   "metadata": {},
   "outputs": [
    {
     "data": {
      "text/plain": [
       "<AxesSubplot:>"
      ]
     },
     "execution_count": 15,
     "metadata": {},
     "output_type": "execute_result"
    },
    {
     "data": {
      "image/png": "[encoded data removed]",
      "text/plain": [
       "<Figure size 432x288 with 1 Axes>"
      ]
     },
     "metadata": {
      "needs_background": "light"
     },
     "output_type": "display_data"
    }
   ],
   "source": [
    "df['enrolled_university'].value_counts().plot.bar()"
   ]
  },
  {
   "cell_type": "code",
   "execution_count": 16,
   "metadata": {},
   "outputs": [
    {
     "data": {
      "text/plain": [
       "<AxesSubplot:>"
      ]
     },
     "execution_count": 16,
     "metadata": {},
     "output_type": "execute_result"
    },
    {
     "data": {
      "image/png": "[encoded data removed]",
      "text/plain": [
       "<Figure size 432x288 with 1 Axes>"
      ]
     },
     "metadata": {
      "needs_background": "light"
     },
     "output_type": "display_data"
    }
   ],
   "source": [
    "df['education_level'].value_counts().plot.bar()"
   ]
  },
  {
   "cell_type": "code",
   "execution_count": 17,
   "metadata": {},
   "outputs": [
    {
     "data": {
      "text/plain": [
       "Text(0.5, 0, '0 - Not looking for job change, 1 – Looking for a job change')"
      ]
     },
     "execution_count": 17,
     "metadata": {},
     "output_type": "execute_result"
    },
    {
     "data": {
      "image/png": "[encoded data removed]",
      "text/plain": [
       "<Figure size 432x288 with 1 Axes>"
      ]
     },
     "metadata": {
      "needs_background": "light"
     },
     "output_type": "display_data"
    }
   ],
   "source": [
    "sns.countplot(x='target',data=df,hue='gender')\n",
    "plt.xlabel('0 - Not looking for job change, 1 – Looking for a job change') "
   ]
  },
  {
   "cell_type": "code",
   "execution_count": 18,
   "metadata": {},
   "outputs": [
    {
     "data": {
      "text/plain": [
       "<AxesSubplot:>"
      ]
     },
     "execution_count": 18,
     "metadata": {},
     "output_type": "execute_result"
    },
    {
     "data": {
      "image/png": "[encoded data removed]",
      "text/plain": [
       "<Figure size 432x288 with 1 Axes>"
      ]
     },
     "metadata": {
      "needs_background": "light"
     },
     "output_type": "display_data"
    }
   ],
   "source": [
    "df['last_new_job'].value_counts().plot.bar()"
   ]
  },
  {
   "cell_type": "code",
   "execution_count": 19,
   "metadata": {},
   "outputs": [
    {
     "data": {
      "text/plain": [
       "<AxesSubplot:xlabel='last_new_job', ylabel='count'>"
      ]
     },
     "execution_count": 19,
     "metadata": {},
     "output_type": "execute_result"
    },
    {
     "data": {
      "image/png": "[encoded data removed]",
      "text/plain": [
       "<Figure size 720x360 with 1 Axes>"
      ]
     },
     "metadata": {
      "needs_background": "light"
     },
     "output_type": "display_data"
    }
   ],
   "source": [
    "plt.figure(figsize=(10,5))\n",
    "sns.countplot(x='last_new_job',data=df,hue='education_level')"
   ]
  },
  {
   "cell_type": "code",
   "execution_count": 20,
   "metadata": {},
   "outputs": [
    {
     "data": {
      "text/plain": [
       "<AxesSubplot:xlabel='last_new_job', ylabel='count'>"
      ]
     },
     "execution_count": 20,
     "metadata": {},
     "output_type": "execute_result"
    },
    {
     "data": {
      "image/png": "[encoded data removed]",
      "text/plain": [
       "<Figure size 720x360 with 1 Axes>"
      ]
     },
     "metadata": {
      "needs_background": "light"
     },
     "output_type": "display_data"
    }
   ],
   "source": [
    "plt.figure(figsize=(10,5))\n",
    "sns.countplot(x='last_new_job',data=df,hue='major_discipline')"
   ]
  },
  {
   "cell_type": "code",
   "execution_count": 21,
   "metadata": {},
   "outputs": [
    {
     "data": {
      "text/plain": [
       "Male      13221\n",
       "Female     1238\n",
       "Other       191\n",
       "Name: gender, dtype: int64"
      ]
     },
     "execution_count": 21,
     "metadata": {},
     "output_type": "execute_result"
    }
   ],
   "source": [
    "df['gender'].value_counts()"
   ]
  },
  {
   "cell_type": "code",
   "execution_count": null,
   "metadata": {},
   "outputs": [],
   "source": []
  },
  {
   "cell_type": "markdown",
   "metadata": {},
   "source": [
    "## Fill missing values \n"
   ]
  },
  {
   "cell_type": "code",
   "execution_count": 22,
   "metadata": {},
   "outputs": [],
   "source": [
    "df_copy = df.copy()"
   ]
  },
  {
   "cell_type": "code",
   "execution_count": 23,
   "metadata": {},
   "outputs": [
    {
     "name": "stdout",
     "output_type": "stream",
     "text": [
      "gender\n",
      "enrolled_university\n",
      "education_level\n",
      "major_discipline\n",
      "experience\n",
      "company_size\n",
      "company_type\n",
      "last_new_job\n"
     ]
    }
   ],
   "source": [
    "# Check if there's any null non numeric values \n",
    "for label, content in df_copy.items():\n",
    "    if not pd.api.types.is_numeric_dtype(content):\n",
    "        if pd.isnull(content).sum():\n",
    "            print(label)"
   ]
  },
  {
   "cell_type": "code",
   "execution_count": 24,
   "metadata": {},
   "outputs": [],
   "source": [
    "for label,content in df_copy.items():\n",
    "    if not pd.api.types.is_numeric_dtype(content):\n",
    "        if pd.isnull(content).sum():\n",
    "            # Add a binary column which tells us if the data was missing \n",
    "            df_copy[label+\"_is_missing\"] = pd.isnull(content)\n",
    "            # Fill missing numeric values with missing arbitrary\n",
    "            df_copy[label] = content.fillna('Missing')\n",
    "\n",
    "\n",
    "\n",
    "\n",
    "            "
   ]
  },
  {
   "cell_type": "code",
   "execution_count": 25,
   "metadata": {},
   "outputs": [
    {
     "data": {
      "text/plain": [
       "<AxesSubplot:>"
      ]
     },
     "execution_count": 25,
     "metadata": {},
     "output_type": "execute_result"
    },
    {
     "data": {
      "image/png": "[encoded data removed]",
      "text/plain": [
       "<Figure size 432x288 with 2 Axes>"
      ]
     },
     "metadata": {
      "needs_background": "light"
     },
     "output_type": "display_data"
    }
   ],
   "source": [
    "sns.heatmap(df_copy.isnull(),yticklabels=False,cmap='viridis') # check if there are still missing values "
   ]
  },
  {
   "cell_type": "code",
   "execution_count": 26,
   "metadata": {},
   "outputs": [
    {
     "data": {
      "text/plain": [
       "no_enrollment       13817\n",
       "Full time course     3757\n",
       "Part time course     1198\n",
       "Missing               386\n",
       "Name: enrolled_university, dtype: int64"
      ]
     },
     "execution_count": 26,
     "metadata": {},
     "output_type": "execute_result"
    }
   ],
   "source": [
    "df_copy['enrolled_university'].value_counts()"
   ]
  },
  {
   "cell_type": "code",
   "execution_count": null,
   "metadata": {},
   "outputs": [],
   "source": []
  },
  {
   "cell_type": "code",
   "execution_count": null,
   "metadata": {},
   "outputs": [],
   "source": []
  },
  {
   "cell_type": "markdown",
   "metadata": {},
   "source": [
    "## Turning categorical data into dummy or indicator variables "
   ]
  },
  {
   "cell_type": "code",
   "execution_count": 27,
   "metadata": {},
   "outputs": [
    {
     "data": {
      "text/html": [
       "<div>\n",
       "<style scoped>\n",
       "    .dataframe tbody tr th:only-of-type {\n",
       "        vertical-align: middle;\n",
       "    }\n",
       "\n",
       "    .dataframe tbody tr th {\n",
       "        vertical-align: top;\n",
       "    }\n",
       "\n",
       "    .dataframe thead th {\n",
       "        text-align: right;\n",
       "    }\n",
       "</style>\n",
       "<table border=\"1\" class=\"dataframe\">\n",
       "  <thead>\n",
       "    <tr style=\"text-align: right;\">\n",
       "      <th></th>\n",
       "      <th>enrollee_id</th>\n",
       "      <th>city</th>\n",
       "      <th>city_development_index</th>\n",
       "      <th>gender</th>\n",
       "      <th>relevent_experience</th>\n",
       "      <th>enrolled_university</th>\n",
       "      <th>education_level</th>\n",
       "      <th>major_discipline</th>\n",
       "      <th>experience</th>\n",
       "      <th>company_size</th>\n",
       "      <th>...</th>\n",
       "      <th>training_hours</th>\n",
       "      <th>target</th>\n",
       "      <th>gender_is_missing</th>\n",
       "      <th>enrolled_university_is_missing</th>\n",
       "      <th>education_level_is_missing</th>\n",
       "      <th>major_discipline_is_missing</th>\n",
       "      <th>experience_is_missing</th>\n",
       "      <th>company_size_is_missing</th>\n",
       "      <th>company_type_is_missing</th>\n",
       "      <th>last_new_job_is_missing</th>\n",
       "    </tr>\n",
       "  </thead>\n",
       "  <tbody>\n",
       "    <tr>\n",
       "      <th>0</th>\n",
       "      <td>8949</td>\n",
       "      <td>city_103</td>\n",
       "      <td>0.920</td>\n",
       "      <td>Male</td>\n",
       "      <td>Has relevent experience</td>\n",
       "      <td>no_enrollment</td>\n",
       "      <td>Graduate</td>\n",
       "      <td>STEM</td>\n",
       "      <td>&gt;20</td>\n",
       "      <td>Missing</td>\n",
       "      <td>...</td>\n",
       "      <td>36</td>\n",
       "      <td>1.0</td>\n",
       "      <td>False</td>\n",
       "      <td>False</td>\n",
       "      <td>False</td>\n",
       "      <td>False</td>\n",
       "      <td>False</td>\n",
       "      <td>True</td>\n",
       "      <td>True</td>\n",
       "      <td>False</td>\n",
       "    </tr>\n",
       "    <tr>\n",
       "      <th>1</th>\n",
       "      <td>29725</td>\n",
       "      <td>city_40</td>\n",
       "      <td>0.776</td>\n",
       "      <td>Male</td>\n",
       "      <td>No relevent experience</td>\n",
       "      <td>no_enrollment</td>\n",
       "      <td>Graduate</td>\n",
       "      <td>STEM</td>\n",
       "      <td>15</td>\n",
       "      <td>50-99</td>\n",
       "      <td>...</td>\n",
       "      <td>47</td>\n",
       "      <td>0.0</td>\n",
       "      <td>False</td>\n",
       "      <td>False</td>\n",
       "      <td>False</td>\n",
       "      <td>False</td>\n",
       "      <td>False</td>\n",
       "      <td>False</td>\n",
       "      <td>False</td>\n",
       "      <td>False</td>\n",
       "    </tr>\n",
       "    <tr>\n",
       "      <th>2</th>\n",
       "      <td>11561</td>\n",
       "      <td>city_21</td>\n",
       "      <td>0.624</td>\n",
       "      <td>Missing</td>\n",
       "      <td>No relevent experience</td>\n",
       "      <td>Full time course</td>\n",
       "      <td>Graduate</td>\n",
       "      <td>STEM</td>\n",
       "      <td>5</td>\n",
       "      <td>Missing</td>\n",
       "      <td>...</td>\n",
       "      <td>83</td>\n",
       "      <td>0.0</td>\n",
       "      <td>True</td>\n",
       "      <td>False</td>\n",
       "      <td>False</td>\n",
       "      <td>False</td>\n",
       "      <td>False</td>\n",
       "      <td>True</td>\n",
       "      <td>True</td>\n",
       "      <td>False</td>\n",
       "    </tr>\n",
       "    <tr>\n",
       "      <th>3</th>\n",
       "      <td>33241</td>\n",
       "      <td>city_115</td>\n",
       "      <td>0.789</td>\n",
       "      <td>Missing</td>\n",
       "      <td>No relevent experience</td>\n",
       "      <td>Missing</td>\n",
       "      <td>Graduate</td>\n",
       "      <td>Business Degree</td>\n",
       "      <td>&lt;1</td>\n",
       "      <td>Missing</td>\n",
       "      <td>...</td>\n",
       "      <td>52</td>\n",
       "      <td>1.0</td>\n",
       "      <td>True</td>\n",
       "      <td>True</td>\n",
       "      <td>False</td>\n",
       "      <td>False</td>\n",
       "      <td>False</td>\n",
       "      <td>True</td>\n",
       "      <td>False</td>\n",
       "      <td>False</td>\n",
       "    </tr>\n",
       "    <tr>\n",
       "      <th>4</th>\n",
       "      <td>666</td>\n",
       "      <td>city_162</td>\n",
       "      <td>0.767</td>\n",
       "      <td>Male</td>\n",
       "      <td>Has relevent experience</td>\n",
       "      <td>no_enrollment</td>\n",
       "      <td>Masters</td>\n",
       "      <td>STEM</td>\n",
       "      <td>&gt;20</td>\n",
       "      <td>50-99</td>\n",
       "      <td>...</td>\n",
       "      <td>8</td>\n",
       "      <td>0.0</td>\n",
       "      <td>False</td>\n",
       "      <td>False</td>\n",
       "      <td>False</td>\n",
       "      <td>False</td>\n",
       "      <td>False</td>\n",
       "      <td>False</td>\n",
       "      <td>False</td>\n",
       "      <td>False</td>\n",
       "    </tr>\n",
       "  </tbody>\n",
       "</table>\n",
       "<p>5 rows × 22 columns</p>\n",
       "</div>"
      ],
      "text/plain": [
       "   enrollee_id      city  city_development_index   gender  \\\n",
       "0         8949  city_103                   0.920     Male   \n",
       "1        29725   city_40                   0.776     Male   \n",
       "2        11561   city_21                   0.624  Missing   \n",
       "3        33241  city_115                   0.789  Missing   \n",
       "4          666  city_162                   0.767     Male   \n",
       "\n",
       "       relevent_experience enrolled_university education_level  \\\n",
       "0  Has relevent experience       no_enrollment        Graduate   \n",
       "1   No relevent experience       no_enrollment        Graduate   \n",
       "2   No relevent experience    Full time course        Graduate   \n",
       "3   No relevent experience             Missing        Graduate   \n",
       "4  Has relevent experience       no_enrollment         Masters   \n",
       "\n",
       "  major_discipline experience company_size  ... training_hours target  \\\n",
       "0             STEM        >20      Missing  ...             36    1.0   \n",
       "1             STEM         15        50-99  ...             47    0.0   \n",
       "2             STEM          5      Missing  ...             83    0.0   \n",
       "3  Business Degree         <1      Missing  ...             52    1.0   \n",
       "4             STEM        >20        50-99  ...              8    0.0   \n",
       "\n",
       "   gender_is_missing  enrolled_university_is_missing  \\\n",
       "0              False                           False   \n",
       "1              False                           False   \n",
       "2               True                           False   \n",
       "3               True                            True   \n",
       "4              False                           False   \n",
       "\n",
       "   education_level_is_missing  major_discipline_is_missing  \\\n",
       "0                       False                        False   \n",
       "1                       False                        False   \n",
       "2                       False                        False   \n",
       "3                       False                        False   \n",
       "4                       False                        False   \n",
       "\n",
       "   experience_is_missing  company_size_is_missing  company_type_is_missing  \\\n",
       "0                  False                     True                     True   \n",
       "1                  False                    False                    False   \n",
       "2                  False                     True                     True   \n",
       "3                  False                     True                    False   \n",
       "4                  False                    False                    False   \n",
       "\n",
       "   last_new_job_is_missing  \n",
       "0                    False  \n",
       "1                    False  \n",
       "2                    False  \n",
       "3                    False  \n",
       "4                    False  \n",
       "\n",
       "[5 rows x 22 columns]"
      ]
     },
     "execution_count": 27,
     "metadata": {},
     "output_type": "execute_result"
    }
   ],
   "source": [
    "df_copy.head()"
   ]
  },
  {
   "cell_type": "code",
   "execution_count": 28,
   "metadata": {},
   "outputs": [
    {
     "data": {
      "text/plain": [
       "1          8040\n",
       ">4         3290\n",
       "2          2900\n",
       "never      2452\n",
       "4          1029\n",
       "3          1024\n",
       "Missing     423\n",
       "Name: last_new_job, dtype: int64"
      ]
     },
     "execution_count": 28,
     "metadata": {},
     "output_type": "execute_result"
    }
   ],
   "source": [
    "df_copy['last_new_job'].value_counts()"
   ]
  },
  {
   "cell_type": "code",
   "execution_count": 29,
   "metadata": {},
   "outputs": [],
   "source": [
    "gender = pd.get_dummies(df_copy['gender'],drop_first=True)\n",
    "relevent_experience = pd.get_dummies(df_copy['relevent_experience'],drop_first=True)\n",
    "enrolled_university = pd.get_dummies(df_copy['enrolled_university'],drop_first=True)\n",
    "education_level = pd.get_dummies(df_copy['education_level'],drop_first=True)\n",
    "major_discipline = pd.get_dummies(df_copy['major_discipline'],drop_first=True)\n",
    "experience = pd.get_dummies(df_copy['experience'],drop_first=True)\n",
    "company_size = pd.get_dummies(df_copy['company_size'],drop_first=True)\n",
    "company_type = pd.get_dummies(df_copy['company_type'],drop_first=True)\n",
    "last_new_job = pd.get_dummies(df_copy['last_new_job'],drop_first=True) "
   ]
  },
  {
   "cell_type": "code",
   "execution_count": 30,
   "metadata": {},
   "outputs": [],
   "source": [
    "final_df = pd.concat([df_copy,gender,relevent_experience,enrolled_university,education_level,major_discipline,\n",
    "                      experience,company_size,company_type,last_new_job],axis=1)"
   ]
  },
  {
   "cell_type": "code",
   "execution_count": 31,
   "metadata": {},
   "outputs": [
    {
     "data": {
      "text/html": [
       "<div>\n",
       "<style scoped>\n",
       "    .dataframe tbody tr th:only-of-type {\n",
       "        vertical-align: middle;\n",
       "    }\n",
       "\n",
       "    .dataframe tbody tr th {\n",
       "        vertical-align: top;\n",
       "    }\n",
       "\n",
       "    .dataframe thead th {\n",
       "        text-align: right;\n",
       "    }\n",
       "</style>\n",
       "<table border=\"1\" class=\"dataframe\">\n",
       "  <thead>\n",
       "    <tr style=\"text-align: right;\">\n",
       "      <th></th>\n",
       "      <th>enrollee_id</th>\n",
       "      <th>city</th>\n",
       "      <th>city_development_index</th>\n",
       "      <th>gender</th>\n",
       "      <th>relevent_experience</th>\n",
       "      <th>enrolled_university</th>\n",
       "      <th>education_level</th>\n",
       "      <th>major_discipline</th>\n",
       "      <th>experience</th>\n",
       "      <th>company_size</th>\n",
       "      <th>...</th>\n",
       "      <th>NGO</th>\n",
       "      <th>Other</th>\n",
       "      <th>Public Sector</th>\n",
       "      <th>Pvt Ltd</th>\n",
       "      <th>2</th>\n",
       "      <th>3</th>\n",
       "      <th>4</th>\n",
       "      <th>&gt;4</th>\n",
       "      <th>Missing</th>\n",
       "      <th>never</th>\n",
       "    </tr>\n",
       "  </thead>\n",
       "  <tbody>\n",
       "    <tr>\n",
       "      <th>0</th>\n",
       "      <td>8949</td>\n",
       "      <td>city_103</td>\n",
       "      <td>0.920</td>\n",
       "      <td>Male</td>\n",
       "      <td>Has relevent experience</td>\n",
       "      <td>no_enrollment</td>\n",
       "      <td>Graduate</td>\n",
       "      <td>STEM</td>\n",
       "      <td>&gt;20</td>\n",
       "      <td>Missing</td>\n",
       "      <td>...</td>\n",
       "      <td>0</td>\n",
       "      <td>0</td>\n",
       "      <td>0</td>\n",
       "      <td>0</td>\n",
       "      <td>0</td>\n",
       "      <td>0</td>\n",
       "      <td>0</td>\n",
       "      <td>0</td>\n",
       "      <td>0</td>\n",
       "      <td>0</td>\n",
       "    </tr>\n",
       "    <tr>\n",
       "      <th>1</th>\n",
       "      <td>29725</td>\n",
       "      <td>city_40</td>\n",
       "      <td>0.776</td>\n",
       "      <td>Male</td>\n",
       "      <td>No relevent experience</td>\n",
       "      <td>no_enrollment</td>\n",
       "      <td>Graduate</td>\n",
       "      <td>STEM</td>\n",
       "      <td>15</td>\n",
       "      <td>50-99</td>\n",
       "      <td>...</td>\n",
       "      <td>0</td>\n",
       "      <td>0</td>\n",
       "      <td>0</td>\n",
       "      <td>1</td>\n",
       "      <td>0</td>\n",
       "      <td>0</td>\n",
       "      <td>0</td>\n",
       "      <td>1</td>\n",
       "      <td>0</td>\n",
       "      <td>0</td>\n",
       "    </tr>\n",
       "    <tr>\n",
       "      <th>2</th>\n",
       "      <td>11561</td>\n",
       "      <td>city_21</td>\n",
       "      <td>0.624</td>\n",
       "      <td>Missing</td>\n",
       "      <td>No relevent experience</td>\n",
       "      <td>Full time course</td>\n",
       "      <td>Graduate</td>\n",
       "      <td>STEM</td>\n",
       "      <td>5</td>\n",
       "      <td>Missing</td>\n",
       "      <td>...</td>\n",
       "      <td>0</td>\n",
       "      <td>0</td>\n",
       "      <td>0</td>\n",
       "      <td>0</td>\n",
       "      <td>0</td>\n",
       "      <td>0</td>\n",
       "      <td>0</td>\n",
       "      <td>0</td>\n",
       "      <td>0</td>\n",
       "      <td>1</td>\n",
       "    </tr>\n",
       "    <tr>\n",
       "      <th>3</th>\n",
       "      <td>33241</td>\n",
       "      <td>city_115</td>\n",
       "      <td>0.789</td>\n",
       "      <td>Missing</td>\n",
       "      <td>No relevent experience</td>\n",
       "      <td>Missing</td>\n",
       "      <td>Graduate</td>\n",
       "      <td>Business Degree</td>\n",
       "      <td>&lt;1</td>\n",
       "      <td>Missing</td>\n",
       "      <td>...</td>\n",
       "      <td>0</td>\n",
       "      <td>0</td>\n",
       "      <td>0</td>\n",
       "      <td>1</td>\n",
       "      <td>0</td>\n",
       "      <td>0</td>\n",
       "      <td>0</td>\n",
       "      <td>0</td>\n",
       "      <td>0</td>\n",
       "      <td>1</td>\n",
       "    </tr>\n",
       "    <tr>\n",
       "      <th>4</th>\n",
       "      <td>666</td>\n",
       "      <td>city_162</td>\n",
       "      <td>0.767</td>\n",
       "      <td>Male</td>\n",
       "      <td>Has relevent experience</td>\n",
       "      <td>no_enrollment</td>\n",
       "      <td>Masters</td>\n",
       "      <td>STEM</td>\n",
       "      <td>&gt;20</td>\n",
       "      <td>50-99</td>\n",
       "      <td>...</td>\n",
       "      <td>0</td>\n",
       "      <td>0</td>\n",
       "      <td>0</td>\n",
       "      <td>0</td>\n",
       "      <td>0</td>\n",
       "      <td>0</td>\n",
       "      <td>1</td>\n",
       "      <td>0</td>\n",
       "      <td>0</td>\n",
       "      <td>0</td>\n",
       "    </tr>\n",
       "  </tbody>\n",
       "</table>\n",
       "<p>5 rows × 82 columns</p>\n",
       "</div>"
      ],
      "text/plain": [
       "   enrollee_id      city  city_development_index   gender  \\\n",
       "0         8949  city_103                   0.920     Male   \n",
       "1        29725   city_40                   0.776     Male   \n",
       "2        11561   city_21                   0.624  Missing   \n",
       "3        33241  city_115                   0.789  Missing   \n",
       "4          666  city_162                   0.767     Male   \n",
       "\n",
       "       relevent_experience enrolled_university education_level  \\\n",
       "0  Has relevent experience       no_enrollment        Graduate   \n",
       "1   No relevent experience       no_enrollment        Graduate   \n",
       "2   No relevent experience    Full time course        Graduate   \n",
       "3   No relevent experience             Missing        Graduate   \n",
       "4  Has relevent experience       no_enrollment         Masters   \n",
       "\n",
       "  major_discipline experience company_size  ... NGO Other  Public Sector  \\\n",
       "0             STEM        >20      Missing  ...   0     0              0   \n",
       "1             STEM         15        50-99  ...   0     0              0   \n",
       "2             STEM          5      Missing  ...   0     0              0   \n",
       "3  Business Degree         <1      Missing  ...   0     0              0   \n",
       "4             STEM        >20        50-99  ...   0     0              0   \n",
       "\n",
       "   Pvt Ltd  2  3  4  >4  Missing  never  \n",
       "0        0  0  0  0   0        0      0  \n",
       "1        1  0  0  0   1        0      0  \n",
       "2        0  0  0  0   0        0      1  \n",
       "3        1  0  0  0   0        0      1  \n",
       "4        0  0  0  1   0        0      0  \n",
       "\n",
       "[5 rows x 82 columns]"
      ]
     },
     "execution_count": 31,
     "metadata": {},
     "output_type": "execute_result"
    }
   ],
   "source": [
    "final_df.head()"
   ]
  },
  {
   "cell_type": "code",
   "execution_count": 32,
   "metadata": {},
   "outputs": [],
   "source": [
    "final_df.drop(['enrollee_id','city','gender',\n",
    "               'relevent_experience','enrolled_university',\n",
    "               'education_level','major_discipline','experience','company_size','company_type',\n",
    "               'last_new_job'],axis=1,inplace=True)"
   ]
  },
  {
   "cell_type": "code",
   "execution_count": 33,
   "metadata": {
    "scrolled": true
   },
   "outputs": [
    {
     "data": {
      "text/html": [
       "<div>\n",
       "<style scoped>\n",
       "    .dataframe tbody tr th:only-of-type {\n",
       "        vertical-align: middle;\n",
       "    }\n",
       "\n",
       "    .dataframe tbody tr th {\n",
       "        vertical-align: top;\n",
       "    }\n",
       "\n",
       "    .dataframe thead th {\n",
       "        text-align: right;\n",
       "    }\n",
       "</style>\n",
       "<table border=\"1\" class=\"dataframe\">\n",
       "  <thead>\n",
       "    <tr style=\"text-align: right;\">\n",
       "      <th></th>\n",
       "      <th>city_development_index</th>\n",
       "      <th>training_hours</th>\n",
       "      <th>target</th>\n",
       "      <th>gender_is_missing</th>\n",
       "      <th>enrolled_university_is_missing</th>\n",
       "      <th>education_level_is_missing</th>\n",
       "      <th>major_discipline_is_missing</th>\n",
       "      <th>experience_is_missing</th>\n",
       "      <th>company_size_is_missing</th>\n",
       "      <th>company_type_is_missing</th>\n",
       "      <th>...</th>\n",
       "      <th>NGO</th>\n",
       "      <th>Other</th>\n",
       "      <th>Public Sector</th>\n",
       "      <th>Pvt Ltd</th>\n",
       "      <th>2</th>\n",
       "      <th>3</th>\n",
       "      <th>4</th>\n",
       "      <th>&gt;4</th>\n",
       "      <th>Missing</th>\n",
       "      <th>never</th>\n",
       "    </tr>\n",
       "  </thead>\n",
       "  <tbody>\n",
       "    <tr>\n",
       "      <th>0</th>\n",
       "      <td>0.920</td>\n",
       "      <td>36</td>\n",
       "      <td>1.0</td>\n",
       "      <td>False</td>\n",
       "      <td>False</td>\n",
       "      <td>False</td>\n",
       "      <td>False</td>\n",
       "      <td>False</td>\n",
       "      <td>True</td>\n",
       "      <td>True</td>\n",
       "      <td>...</td>\n",
       "      <td>0</td>\n",
       "      <td>0</td>\n",
       "      <td>0</td>\n",
       "      <td>0</td>\n",
       "      <td>0</td>\n",
       "      <td>0</td>\n",
       "      <td>0</td>\n",
       "      <td>0</td>\n",
       "      <td>0</td>\n",
       "      <td>0</td>\n",
       "    </tr>\n",
       "    <tr>\n",
       "      <th>1</th>\n",
       "      <td>0.776</td>\n",
       "      <td>47</td>\n",
       "      <td>0.0</td>\n",
       "      <td>False</td>\n",
       "      <td>False</td>\n",
       "      <td>False</td>\n",
       "      <td>False</td>\n",
       "      <td>False</td>\n",
       "      <td>False</td>\n",
       "      <td>False</td>\n",
       "      <td>...</td>\n",
       "      <td>0</td>\n",
       "      <td>0</td>\n",
       "      <td>0</td>\n",
       "      <td>1</td>\n",
       "      <td>0</td>\n",
       "      <td>0</td>\n",
       "      <td>0</td>\n",
       "      <td>1</td>\n",
       "      <td>0</td>\n",
       "      <td>0</td>\n",
       "    </tr>\n",
       "    <tr>\n",
       "      <th>2</th>\n",
       "      <td>0.624</td>\n",
       "      <td>83</td>\n",
       "      <td>0.0</td>\n",
       "      <td>True</td>\n",
       "      <td>False</td>\n",
       "      <td>False</td>\n",
       "      <td>False</td>\n",
       "      <td>False</td>\n",
       "      <td>True</td>\n",
       "      <td>True</td>\n",
       "      <td>...</td>\n",
       "      <td>0</td>\n",
       "      <td>0</td>\n",
       "      <td>0</td>\n",
       "      <td>0</td>\n",
       "      <td>0</td>\n",
       "      <td>0</td>\n",
       "      <td>0</td>\n",
       "      <td>0</td>\n",
       "      <td>0</td>\n",
       "      <td>1</td>\n",
       "    </tr>\n",
       "    <tr>\n",
       "      <th>3</th>\n",
       "      <td>0.789</td>\n",
       "      <td>52</td>\n",
       "      <td>1.0</td>\n",
       "      <td>True</td>\n",
       "      <td>True</td>\n",
       "      <td>False</td>\n",
       "      <td>False</td>\n",
       "      <td>False</td>\n",
       "      <td>True</td>\n",
       "      <td>False</td>\n",
       "      <td>...</td>\n",
       "      <td>0</td>\n",
       "      <td>0</td>\n",
       "      <td>0</td>\n",
       "      <td>1</td>\n",
       "      <td>0</td>\n",
       "      <td>0</td>\n",
       "      <td>0</td>\n",
       "      <td>0</td>\n",
       "      <td>0</td>\n",
       "      <td>1</td>\n",
       "    </tr>\n",
       "    <tr>\n",
       "      <th>4</th>\n",
       "      <td>0.767</td>\n",
       "      <td>8</td>\n",
       "      <td>0.0</td>\n",
       "      <td>False</td>\n",
       "      <td>False</td>\n",
       "      <td>False</td>\n",
       "      <td>False</td>\n",
       "      <td>False</td>\n",
       "      <td>False</td>\n",
       "      <td>False</td>\n",
       "      <td>...</td>\n",
       "      <td>0</td>\n",
       "      <td>0</td>\n",
       "      <td>0</td>\n",
       "      <td>0</td>\n",
       "      <td>0</td>\n",
       "      <td>0</td>\n",
       "      <td>1</td>\n",
       "      <td>0</td>\n",
       "      <td>0</td>\n",
       "      <td>0</td>\n",
       "    </tr>\n",
       "    <tr>\n",
       "      <th>...</th>\n",
       "      <td>...</td>\n",
       "      <td>...</td>\n",
       "      <td>...</td>\n",
       "      <td>...</td>\n",
       "      <td>...</td>\n",
       "      <td>...</td>\n",
       "      <td>...</td>\n",
       "      <td>...</td>\n",
       "      <td>...</td>\n",
       "      <td>...</td>\n",
       "      <td>...</td>\n",
       "      <td>...</td>\n",
       "      <td>...</td>\n",
       "      <td>...</td>\n",
       "      <td>...</td>\n",
       "      <td>...</td>\n",
       "      <td>...</td>\n",
       "      <td>...</td>\n",
       "      <td>...</td>\n",
       "      <td>...</td>\n",
       "      <td>...</td>\n",
       "    </tr>\n",
       "    <tr>\n",
       "      <th>19153</th>\n",
       "      <td>0.878</td>\n",
       "      <td>42</td>\n",
       "      <td>1.0</td>\n",
       "      <td>False</td>\n",
       "      <td>False</td>\n",
       "      <td>False</td>\n",
       "      <td>False</td>\n",
       "      <td>False</td>\n",
       "      <td>True</td>\n",
       "      <td>True</td>\n",
       "      <td>...</td>\n",
       "      <td>0</td>\n",
       "      <td>0</td>\n",
       "      <td>0</td>\n",
       "      <td>0</td>\n",
       "      <td>0</td>\n",
       "      <td>0</td>\n",
       "      <td>0</td>\n",
       "      <td>0</td>\n",
       "      <td>0</td>\n",
       "      <td>0</td>\n",
       "    </tr>\n",
       "    <tr>\n",
       "      <th>19154</th>\n",
       "      <td>0.920</td>\n",
       "      <td>52</td>\n",
       "      <td>1.0</td>\n",
       "      <td>False</td>\n",
       "      <td>False</td>\n",
       "      <td>False</td>\n",
       "      <td>False</td>\n",
       "      <td>False</td>\n",
       "      <td>True</td>\n",
       "      <td>True</td>\n",
       "      <td>...</td>\n",
       "      <td>0</td>\n",
       "      <td>0</td>\n",
       "      <td>0</td>\n",
       "      <td>0</td>\n",
       "      <td>0</td>\n",
       "      <td>0</td>\n",
       "      <td>1</td>\n",
       "      <td>0</td>\n",
       "      <td>0</td>\n",
       "      <td>0</td>\n",
       "    </tr>\n",
       "    <tr>\n",
       "      <th>19155</th>\n",
       "      <td>0.920</td>\n",
       "      <td>44</td>\n",
       "      <td>0.0</td>\n",
       "      <td>False</td>\n",
       "      <td>False</td>\n",
       "      <td>False</td>\n",
       "      <td>False</td>\n",
       "      <td>False</td>\n",
       "      <td>False</td>\n",
       "      <td>False</td>\n",
       "      <td>...</td>\n",
       "      <td>0</td>\n",
       "      <td>0</td>\n",
       "      <td>0</td>\n",
       "      <td>1</td>\n",
       "      <td>0</td>\n",
       "      <td>0</td>\n",
       "      <td>1</td>\n",
       "      <td>0</td>\n",
       "      <td>0</td>\n",
       "      <td>0</td>\n",
       "    </tr>\n",
       "    <tr>\n",
       "      <th>19156</th>\n",
       "      <td>0.802</td>\n",
       "      <td>97</td>\n",
       "      <td>0.0</td>\n",
       "      <td>False</td>\n",
       "      <td>False</td>\n",
       "      <td>False</td>\n",
       "      <td>True</td>\n",
       "      <td>False</td>\n",
       "      <td>False</td>\n",
       "      <td>False</td>\n",
       "      <td>...</td>\n",
       "      <td>0</td>\n",
       "      <td>0</td>\n",
       "      <td>0</td>\n",
       "      <td>1</td>\n",
       "      <td>1</td>\n",
       "      <td>0</td>\n",
       "      <td>0</td>\n",
       "      <td>0</td>\n",
       "      <td>0</td>\n",
       "      <td>0</td>\n",
       "    </tr>\n",
       "    <tr>\n",
       "      <th>19157</th>\n",
       "      <td>0.855</td>\n",
       "      <td>127</td>\n",
       "      <td>0.0</td>\n",
       "      <td>True</td>\n",
       "      <td>False</td>\n",
       "      <td>False</td>\n",
       "      <td>True</td>\n",
       "      <td>False</td>\n",
       "      <td>True</td>\n",
       "      <td>True</td>\n",
       "      <td>...</td>\n",
       "      <td>0</td>\n",
       "      <td>0</td>\n",
       "      <td>0</td>\n",
       "      <td>0</td>\n",
       "      <td>0</td>\n",
       "      <td>0</td>\n",
       "      <td>0</td>\n",
       "      <td>0</td>\n",
       "      <td>0</td>\n",
       "      <td>0</td>\n",
       "    </tr>\n",
       "  </tbody>\n",
       "</table>\n",
       "<p>19158 rows × 71 columns</p>\n",
       "</div>"
      ],
      "text/plain": [
       "       city_development_index  training_hours  target  gender_is_missing  \\\n",
       "0                       0.920              36     1.0              False   \n",
       "1                       0.776              47     0.0              False   \n",
       "2                       0.624              83     0.0               True   \n",
       "3                       0.789              52     1.0               True   \n",
       "4                       0.767               8     0.0              False   \n",
       "...                       ...             ...     ...                ...   \n",
       "19153                   0.878              42     1.0              False   \n",
       "19154                   0.920              52     1.0              False   \n",
       "19155                   0.920              44     0.0              False   \n",
       "19156                   0.802              97     0.0              False   \n",
       "19157                   0.855             127     0.0               True   \n",
       "\n",
       "       enrolled_university_is_missing  education_level_is_missing  \\\n",
       "0                               False                       False   \n",
       "1                               False                       False   \n",
       "2                               False                       False   \n",
       "3                                True                       False   \n",
       "4                               False                       False   \n",
       "...                               ...                         ...   \n",
       "19153                           False                       False   \n",
       "19154                           False                       False   \n",
       "19155                           False                       False   \n",
       "19156                           False                       False   \n",
       "19157                           False                       False   \n",
       "\n",
       "       major_discipline_is_missing  experience_is_missing  \\\n",
       "0                            False                  False   \n",
       "1                            False                  False   \n",
       "2                            False                  False   \n",
       "3                            False                  False   \n",
       "4                            False                  False   \n",
       "...                            ...                    ...   \n",
       "19153                        False                  False   \n",
       "19154                        False                  False   \n",
       "19155                        False                  False   \n",
       "19156                         True                  False   \n",
       "19157                         True                  False   \n",
       "\n",
       "       company_size_is_missing  company_type_is_missing  ...  NGO  Other  \\\n",
       "0                         True                     True  ...    0      0   \n",
       "1                        False                    False  ...    0      0   \n",
       "2                         True                     True  ...    0      0   \n",
       "3                         True                    False  ...    0      0   \n",
       "4                        False                    False  ...    0      0   \n",
       "...                        ...                      ...  ...  ...    ...   \n",
       "19153                     True                     True  ...    0      0   \n",
       "19154                     True                     True  ...    0      0   \n",
       "19155                    False                    False  ...    0      0   \n",
       "19156                    False                    False  ...    0      0   \n",
       "19157                     True                     True  ...    0      0   \n",
       "\n",
       "       Public Sector  Pvt Ltd  2  3  4  >4  Missing  never  \n",
       "0                  0        0  0  0  0   0        0      0  \n",
       "1                  0        1  0  0  0   1        0      0  \n",
       "2                  0        0  0  0  0   0        0      1  \n",
       "3                  0        1  0  0  0   0        0      1  \n",
       "4                  0        0  0  0  1   0        0      0  \n",
       "...              ...      ... .. .. ..  ..      ...    ...  \n",
       "19153              0        0  0  0  0   0        0      0  \n",
       "19154              0        0  0  0  1   0        0      0  \n",
       "19155              0        1  0  0  1   0        0      0  \n",
       "19156              0        1  1  0  0   0        0      0  \n",
       "19157              0        0  0  0  0   0        0      0  \n",
       "\n",
       "[19158 rows x 71 columns]"
      ]
     },
     "execution_count": 33,
     "metadata": {},
     "output_type": "execute_result"
    }
   ],
   "source": [
    "final_df"
   ]
  },
  {
   "cell_type": "code",
   "execution_count": null,
   "metadata": {},
   "outputs": [],
   "source": []
  },
  {
   "cell_type": "markdown",
   "metadata": {},
   "source": [
    "## Dealing with Imbalanced Data \n",
    "### Combination of Over- and Under-sampling/ Hybrid Methods\n",
    "There are two ready-to-use classes imbalanced-learn implements for combining over- and under-sampling methods are SMOTETomek and SMOTEENN."
   ]
  },
  {
   "cell_type": "code",
   "execution_count": 34,
   "metadata": {},
   "outputs": [],
   "source": [
    "X = final_df.drop('target',axis=1) # just the features \n",
    "y=final_df['target'] # target"
   ]
  },
  {
   "cell_type": "code",
   "execution_count": 35,
   "metadata": {},
   "outputs": [],
   "source": [
    "# resample by adding samples to minority class using SMOTE\n",
    "X_ =np.array(X)\n",
    "resample = SMOTETomek(tomek=TomekLinks(sampling_strategy='majority'))\n",
    "X_oversamp, Y_over_samp = resample.fit_resample(X_, y)"
   ]
  },
  {
   "cell_type": "code",
   "execution_count": 36,
   "metadata": {},
   "outputs": [],
   "source": [
    "X_train, X_test, y_train, y_test = train_test_split(X_oversamp,\n",
    "                                                    Y_over_samp,\n",
    "                                                    test_size=0.3,\n",
    "                                                    random_state = 42)"
   ]
  },
  {
   "cell_type": "code",
   "execution_count": 37,
   "metadata": {},
   "outputs": [
    {
     "data": {
      "text/plain": [
       "((20027, 70), (8584, 70))"
      ]
     },
     "execution_count": 37,
     "metadata": {},
     "output_type": "execute_result"
    }
   ],
   "source": [
    "X_train.shape , X_test.shape"
   ]
  },
  {
   "cell_type": "markdown",
   "metadata": {},
   "source": [
    "## Modelling "
   ]
  },
  {
   "cell_type": "code",
   "execution_count": 38,
   "metadata": {},
   "outputs": [],
   "source": [
    "# Put models in a dictionary  \n",
    "models = {\"Logistic Regression\": LogisticRegression(), \"KNN\": KNeighborsClassifier(),\n",
    "          \"Random Forest\": RandomForestClassifier(),'Gradient Boosting':GradientBoostingClassifier()}\n",
    "\n",
    "# create a function to fit and score models \n",
    "def fit_and_score(models, X_train,X_test,y_train,y_test):\n",
    "\n",
    "    # set random seed \n",
    "    np.random.seed(42)\n",
    "    # Make a dictionary to keep model scores \n",
    "    model_scores = {}\n",
    "    # Loop through models \n",
    "    for name, model in models.items():\n",
    "        # Fit the model to the data \n",
    "        model.fit(X_train,y_train)\n",
    "        # Evaluate the model and apppend its score to model_scores\n",
    "        model_scores[name] = model.score(X_test,y_test)\n",
    "    return model_scores"
   ]
  },
  {
   "cell_type": "code",
   "execution_count": 39,
   "metadata": {},
   "outputs": [
    {
     "name": "stderr",
     "output_type": "stream",
     "text": [
      "C:\\Users\\hi\\anaconda3\\lib\\site-packages\\sklearn\\linear_model\\_logistic.py:814: ConvergenceWarning: lbfgs failed to converge (status=1):\n",
      "STOP: TOTAL NO. of ITERATIONS REACHED LIMIT.\n",
      "\n",
      "Increase the number of iterations (max_iter) or scale the data as shown in:\n",
      "    https://scikit-learn.org/stable/modules/preprocessing.html\n",
      "Please also refer to the documentation for alternative solver options:\n",
      "    https://scikit-learn.org/stable/modules/linear_model.html#logistic-regression\n",
      "  n_iter_i = _check_optimize_result(\n"
     ]
    },
    {
     "data": {
      "text/plain": [
       "{'Logistic Regression': 0.7567567567567568,\n",
       " 'KNN': 0.7051491146318732,\n",
       " 'Random Forest': 0.8592730661696178,\n",
       " 'Gradient Boosting': 0.8427306616961789}"
      ]
     },
     "execution_count": 39,
     "metadata": {},
     "output_type": "execute_result"
    }
   ],
   "source": [
    "model_scores = fit_and_score(models=models, X_train=X_train,X_test=X_test,y_train=y_train,y_test=y_test)\n",
    "model_scores"
   ]
  },
  {
   "cell_type": "code",
   "execution_count": null,
   "metadata": {},
   "outputs": [],
   "source": []
  },
  {
   "cell_type": "markdown",
   "metadata": {},
   "source": [
    "## Hyperparameter tuning with RandomizedSearchCV\n"
   ]
  },
  {
   "cell_type": "code",
   "execution_count": 42,
   "metadata": {},
   "outputs": [
    {
     "name": "stdout",
     "output_type": "stream",
     "text": [
      "Fitting 5 folds for each of 20 candidates, totalling 100 fits\n",
      "[CV] END max_depth=10, min_samples_leaf=7, min_samples_split=16, n_estimators=3110; total time=  52.8s\n",
      "[CV] END max_depth=10, min_samples_leaf=7, min_samples_split=16, n_estimators=3110; total time=  49.2s\n",
      "[CV] END max_depth=10, min_samples_leaf=7, min_samples_split=16, n_estimators=3110; total time=  48.9s\n",
      "[CV] END max_depth=10, min_samples_leaf=7, min_samples_split=16, n_estimators=3110; total time=  49.7s\n",
      "[CV] END max_depth=10, min_samples_leaf=7, min_samples_split=16, n_estimators=3110; total time=  50.6s\n",
      "[CV] END max_depth=10, min_samples_leaf=9, min_samples_split=14, n_estimators=4760; total time= 1.3min\n",
      "[CV] END max_depth=10, min_samples_leaf=9, min_samples_split=14, n_estimators=4760; total time= 1.4min\n",
      "[CV] END max_depth=10, min_samples_leaf=9, min_samples_split=14, n_estimators=4760; total time= 1.3min\n",
      "[CV] END max_depth=10, min_samples_leaf=9, min_samples_split=14, n_estimators=4760; total time= 1.3min\n",
      "[CV] END max_depth=10, min_samples_leaf=9, min_samples_split=14, n_estimators=4760; total time= 1.3min\n",
      "[CV] END max_depth=10, min_samples_leaf=13, min_samples_split=2, n_estimators=5110; total time= 1.4min\n",
      "[CV] END max_depth=10, min_samples_leaf=13, min_samples_split=2, n_estimators=5110; total time= 1.3min\n",
      "[CV] END max_depth=10, min_samples_leaf=13, min_samples_split=2, n_estimators=5110; total time= 1.4min\n",
      "[CV] END max_depth=10, min_samples_leaf=13, min_samples_split=2, n_estimators=5110; total time= 1.3min\n",
      "[CV] END max_depth=10, min_samples_leaf=13, min_samples_split=2, n_estimators=5110; total time= 1.3min\n",
      "[CV] END max_depth=10, min_samples_leaf=19, min_samples_split=6, n_estimators=4010; total time= 1.0min\n",
      "[CV] END max_depth=10, min_samples_leaf=19, min_samples_split=6, n_estimators=4010; total time= 1.1min\n",
      "[CV] END max_depth=10, min_samples_leaf=19, min_samples_split=6, n_estimators=4010; total time= 1.3min\n",
      "[CV] END max_depth=10, min_samples_leaf=19, min_samples_split=6, n_estimators=4010; total time= 1.0min\n",
      "[CV] END max_depth=10, min_samples_leaf=19, min_samples_split=6, n_estimators=4010; total time= 1.0min\n",
      "[CV] END max_depth=5, min_samples_leaf=17, min_samples_split=16, n_estimators=4160; total time=  45.6s\n",
      "[CV] END max_depth=5, min_samples_leaf=17, min_samples_split=16, n_estimators=4160; total time=  46.8s\n",
      "[CV] END max_depth=5, min_samples_leaf=17, min_samples_split=16, n_estimators=4160; total time=  47.4s\n",
      "[CV] END max_depth=5, min_samples_leaf=17, min_samples_split=16, n_estimators=4160; total time=  46.3s\n",
      "[CV] END max_depth=5, min_samples_leaf=17, min_samples_split=16, n_estimators=4160; total time=  45.5s\n",
      "[CV] END max_depth=10, min_samples_leaf=15, min_samples_split=14, n_estimators=1410; total time=  21.7s\n",
      "[CV] END max_depth=10, min_samples_leaf=15, min_samples_split=14, n_estimators=1410; total time=  21.6s\n",
      "[CV] END max_depth=10, min_samples_leaf=15, min_samples_split=14, n_estimators=1410; total time=  24.2s\n",
      "[CV] END max_depth=10, min_samples_leaf=15, min_samples_split=14, n_estimators=1410; total time=  31.2s\n",
      "[CV] END max_depth=10, min_samples_leaf=15, min_samples_split=14, n_estimators=1410; total time=  32.9s\n",
      "[CV] END max_depth=10, min_samples_leaf=3, min_samples_split=8, n_estimators=1560; total time=  38.5s\n",
      "[CV] END max_depth=10, min_samples_leaf=3, min_samples_split=8, n_estimators=1560; total time=  40.7s\n",
      "[CV] END max_depth=10, min_samples_leaf=3, min_samples_split=8, n_estimators=1560; total time=  35.9s\n",
      "[CV] END max_depth=10, min_samples_leaf=3, min_samples_split=8, n_estimators=1560; total time=  39.1s\n",
      "[CV] END max_depth=10, min_samples_leaf=3, min_samples_split=8, n_estimators=1560; total time=  41.8s\n",
      "[CV] END max_depth=3, min_samples_leaf=11, min_samples_split=12, n_estimators=160; total time=   2.0s\n",
      "[CV] END max_depth=3, min_samples_leaf=11, min_samples_split=12, n_estimators=160; total time=   1.5s\n",
      "[CV] END max_depth=3, min_samples_leaf=11, min_samples_split=12, n_estimators=160; total time=   2.6s\n",
      "[CV] END max_depth=3, min_samples_leaf=11, min_samples_split=12, n_estimators=160; total time=   2.7s\n",
      "[CV] END max_depth=3, min_samples_leaf=11, min_samples_split=12, n_estimators=160; total time=   2.8s\n",
      "[CV] END max_depth=3, min_samples_leaf=5, min_samples_split=12, n_estimators=3060; total time=  40.9s\n",
      "[CV] END max_depth=3, min_samples_leaf=5, min_samples_split=12, n_estimators=3060; total time=  36.5s\n",
      "[CV] END max_depth=3, min_samples_leaf=5, min_samples_split=12, n_estimators=3060; total time=  36.7s\n",
      "[CV] END max_depth=3, min_samples_leaf=5, min_samples_split=12, n_estimators=3060; total time=  41.3s\n",
      "[CV] END max_depth=3, min_samples_leaf=5, min_samples_split=12, n_estimators=3060; total time=  38.7s\n",
      "[CV] END max_depth=3, min_samples_leaf=1, min_samples_split=6, n_estimators=5010; total time=  56.3s\n",
      "[CV] END max_depth=3, min_samples_leaf=1, min_samples_split=6, n_estimators=5010; total time=  41.4s\n",
      "[CV] END max_depth=3, min_samples_leaf=1, min_samples_split=6, n_estimators=5010; total time=  53.1s\n",
      "[CV] END max_depth=3, min_samples_leaf=1, min_samples_split=6, n_estimators=5010; total time= 1.1min\n",
      "[CV] END max_depth=3, min_samples_leaf=1, min_samples_split=6, n_estimators=5010; total time= 1.2min\n",
      "[CV] END max_depth=5, min_samples_leaf=17, min_samples_split=2, n_estimators=1110; total time=  35.3s\n",
      "[CV] END max_depth=5, min_samples_leaf=17, min_samples_split=2, n_estimators=1110; total time=  34.9s\n",
      "[CV] END max_depth=5, min_samples_leaf=17, min_samples_split=2, n_estimators=1110; total time=  20.9s\n",
      "[CV] END max_depth=5, min_samples_leaf=17, min_samples_split=2, n_estimators=1110; total time=  19.6s\n",
      "[CV] END max_depth=5, min_samples_leaf=17, min_samples_split=2, n_estimators=1110; total time=  20.2s\n",
      "[CV] END max_depth=None, min_samples_leaf=9, min_samples_split=8, n_estimators=6710; total time= 3.5min\n",
      "[CV] END max_depth=None, min_samples_leaf=9, min_samples_split=8, n_estimators=6710; total time= 3.7min\n",
      "[CV] END max_depth=None, min_samples_leaf=9, min_samples_split=8, n_estimators=6710; total time= 3.5min\n",
      "[CV] END max_depth=None, min_samples_leaf=9, min_samples_split=8, n_estimators=6710; total time= 3.5min\n",
      "[CV] END max_depth=None, min_samples_leaf=9, min_samples_split=8, n_estimators=6710; total time= 3.6min\n",
      "[CV] END max_depth=10, min_samples_leaf=17, min_samples_split=18, n_estimators=2210; total time=  42.6s\n",
      "[CV] END max_depth=10, min_samples_leaf=17, min_samples_split=18, n_estimators=2210; total time=  41.8s\n",
      "[CV] END max_depth=10, min_samples_leaf=17, min_samples_split=18, n_estimators=2210; total time=  39.7s\n",
      "[CV] END max_depth=10, min_samples_leaf=17, min_samples_split=18, n_estimators=2210; total time=  46.1s\n",
      "[CV] END max_depth=10, min_samples_leaf=17, min_samples_split=18, n_estimators=2210; total time=  44.1s\n",
      "[CV] END max_depth=None, min_samples_leaf=3, min_samples_split=4, n_estimators=3910; total time= 2.0min\n",
      "[CV] END max_depth=None, min_samples_leaf=3, min_samples_split=4, n_estimators=3910; total time= 2.5min\n",
      "[CV] END max_depth=None, min_samples_leaf=3, min_samples_split=4, n_estimators=3910; total time= 2.6min\n",
      "[CV] END max_depth=None, min_samples_leaf=3, min_samples_split=4, n_estimators=3910; total time= 2.2min\n",
      "[CV] END max_depth=None, min_samples_leaf=3, min_samples_split=4, n_estimators=3910; total time= 2.0min\n",
      "[CV] END max_depth=10, min_samples_leaf=13, min_samples_split=8, n_estimators=3710; total time= 1.2min\n",
      "[CV] END max_depth=10, min_samples_leaf=13, min_samples_split=8, n_estimators=3710; total time= 1.3min\n",
      "[CV] END max_depth=10, min_samples_leaf=13, min_samples_split=8, n_estimators=3710; total time= 1.4min\n",
      "[CV] END max_depth=10, min_samples_leaf=13, min_samples_split=8, n_estimators=3710; total time= 1.2min\n",
      "[CV] END max_depth=10, min_samples_leaf=13, min_samples_split=8, n_estimators=3710; total time= 1.3min\n",
      "[CV] END max_depth=10, min_samples_leaf=15, min_samples_split=8, n_estimators=1410; total time=  27.9s\n",
      "[CV] END max_depth=10, min_samples_leaf=15, min_samples_split=8, n_estimators=1410; total time=  29.2s\n",
      "[CV] END max_depth=10, min_samples_leaf=15, min_samples_split=8, n_estimators=1410; total time=  24.0s\n",
      "[CV] END max_depth=10, min_samples_leaf=15, min_samples_split=8, n_estimators=1410; total time=  27.5s\n",
      "[CV] END max_depth=10, min_samples_leaf=15, min_samples_split=8, n_estimators=1410; total time=  31.1s\n"
     ]
    },
    {
     "name": "stdout",
     "output_type": "stream",
     "text": [
      "[CV] END max_depth=5, min_samples_leaf=7, min_samples_split=10, n_estimators=3360; total time=  44.9s\n",
      "[CV] END max_depth=5, min_samples_leaf=7, min_samples_split=10, n_estimators=3360; total time=  38.6s\n",
      "[CV] END max_depth=5, min_samples_leaf=7, min_samples_split=10, n_estimators=3360; total time=  40.1s\n",
      "[CV] END max_depth=5, min_samples_leaf=7, min_samples_split=10, n_estimators=3360; total time=  35.7s\n",
      "[CV] END max_depth=5, min_samples_leaf=7, min_samples_split=10, n_estimators=3360; total time=  31.6s\n",
      "[CV] END max_depth=10, min_samples_leaf=17, min_samples_split=14, n_estimators=7010; total time= 2.1min\n",
      "[CV] END max_depth=10, min_samples_leaf=17, min_samples_split=14, n_estimators=7010; total time= 2.0min\n",
      "[CV] END max_depth=10, min_samples_leaf=17, min_samples_split=14, n_estimators=7010; total time= 1.9min\n",
      "[CV] END max_depth=10, min_samples_leaf=17, min_samples_split=14, n_estimators=7010; total time= 2.0min\n",
      "[CV] END max_depth=10, min_samples_leaf=17, min_samples_split=14, n_estimators=7010; total time= 2.6min\n",
      "[CV] END max_depth=3, min_samples_leaf=3, min_samples_split=6, n_estimators=1910; total time=  27.8s\n",
      "[CV] END max_depth=3, min_samples_leaf=3, min_samples_split=6, n_estimators=1910; total time=  25.8s\n",
      "[CV] END max_depth=3, min_samples_leaf=3, min_samples_split=6, n_estimators=1910; total time=  27.4s\n",
      "[CV] END max_depth=3, min_samples_leaf=3, min_samples_split=6, n_estimators=1910; total time=  27.7s\n",
      "[CV] END max_depth=3, min_samples_leaf=3, min_samples_split=6, n_estimators=1910; total time=  27.2s\n",
      "[CV] END max_depth=None, min_samples_leaf=13, min_samples_split=16, n_estimators=7710; total time= 3.3min\n",
      "[CV] END max_depth=None, min_samples_leaf=13, min_samples_split=16, n_estimators=7710; total time= 3.1min\n",
      "[CV] END max_depth=None, min_samples_leaf=13, min_samples_split=16, n_estimators=7710; total time= 3.4min\n",
      "[CV] END max_depth=None, min_samples_leaf=13, min_samples_split=16, n_estimators=7710; total time= 4.4min\n",
      "[CV] END max_depth=None, min_samples_leaf=13, min_samples_split=16, n_estimators=7710; total time= 4.0min\n"
     ]
    },
    {
     "data": {
      "text/plain": [
       "RandomizedSearchCV(cv=5, estimator=RandomForestClassifier(n_jobs=1), n_iter=20,\n",
       "                   param_distributions={'max_depth': [None, 3, 5, 10],\n",
       "                                        'min_samples_leaf': array([ 1,  3,  5,  7,  9, 11, 13, 15, 17, 19]),\n",
       "                                        'min_samples_split': array([ 2,  4,  6,  8, 10, 12, 14, 16, 18]),\n",
       "                                        'n_estimators': array([  10,   60,  110,  160,  210,  260,  310,  360,  410,  460,  510,\n",
       "        560,  610,  660,  710,  760,  810,  860,  910,  960, 1010, 1060,\n",
       "       1110, 1160, 1...\n",
       "       4410, 4460, 4510, 4560, 4610, 4660, 4710, 4760, 4810, 4860, 4910,\n",
       "       4960, 5010, 5060, 5110, 5160, 5210, 5260, 5310, 5360, 5410, 5460,\n",
       "       5510, 5560, 5610, 5660, 5710, 5760, 5810, 5860, 5910, 5960, 6010,\n",
       "       6060, 6110, 6160, 6210, 6260, 6310, 6360, 6410, 6460, 6510, 6560,\n",
       "       6610, 6660, 6710, 6760, 6810, 6860, 6910, 6960, 7010, 7060, 7110,\n",
       "       7160, 7210, 7260, 7310, 7360, 7410, 7460, 7510, 7560, 7610, 7660,\n",
       "       7710, 7760, 7810, 7860, 7910, 7960])},\n",
       "                   verbose=2)"
      ]
     },
     "execution_count": 42,
     "metadata": {},
     "output_type": "execute_result"
    }
   ],
   "source": [
    "# Create a hyperparameter grid for RandomForestClassifier \n",
    "gr= {\"n_estimators\": np.arange(10, 8000, 50),\n",
    "           \"max_depth\": [None, 3, 5, 10], \n",
    "           \"min_samples_split\": np.arange(2,20,2),\n",
    "           \"min_samples_leaf\": np.arange(1, 20, 2)}\n",
    "\n",
    "\n",
    "clf = RandomizedSearchCV(estimator=RandomForestClassifier(n_jobs=1),param_distributions=gr,\n",
    "                         verbose=2,\n",
    "                         cv=5,\n",
    "                         n_iter=20\n",
    "                        )\n",
    "clf.fit(X_train,y_train)"
   ]
  },
  {
   "cell_type": "code",
   "execution_count": 43,
   "metadata": {},
   "outputs": [
    {
     "data": {
      "text/plain": [
       "{'n_estimators': 3910,\n",
       " 'min_samples_split': 4,\n",
       " 'min_samples_leaf': 3,\n",
       " 'max_depth': None}"
      ]
     },
     "execution_count": 43,
     "metadata": {},
     "output_type": "execute_result"
    }
   ],
   "source": [
    "clf.best_params_"
   ]
  },
  {
   "cell_type": "code",
   "execution_count": 44,
   "metadata": {},
   "outputs": [
    {
     "data": {
      "text/plain": [
       "0.8572926374650512"
      ]
     },
     "execution_count": 44,
     "metadata": {},
     "output_type": "execute_result"
    }
   ],
   "source": [
    "clf.score(X_test,y_test)"
   ]
  },
  {
   "cell_type": "code",
   "execution_count": 45,
   "metadata": {},
   "outputs": [],
   "source": [
    "y_preds = clf.predict(X_test)"
   ]
  },
  {
   "cell_type": "code",
   "execution_count": 46,
   "metadata": {},
   "outputs": [
    {
     "data": {
      "text/plain": [
       "0.8453423120089787"
      ]
     },
     "execution_count": 46,
     "metadata": {},
     "output_type": "execute_result"
    }
   ],
   "source": [
    "precision_score(y_test,y_preds)"
   ]
  },
  {
   "cell_type": "code",
   "execution_count": 47,
   "metadata": {},
   "outputs": [
    {
     "data": {
      "text/plain": [
       "0.8754067875406788"
      ]
     },
     "execution_count": 47,
     "metadata": {},
     "output_type": "execute_result"
    }
   ],
   "source": [
    "recall_score(y_test,y_preds)"
   ]
  },
  {
   "cell_type": "code",
   "execution_count": 49,
   "metadata": {},
   "outputs": [
    {
     "name": "stdout",
     "output_type": "stream",
     "text": [
      "[[3593  689]\n",
      " [ 536 3766]]\n"
     ]
    }
   ],
   "source": [
    "print(confusion_matrix(y_test,y_preds))"
   ]
  },
  {
   "cell_type": "code",
   "execution_count": 59,
   "metadata": {},
   "outputs": [],
   "source": [
    "grid_p = {\"n_estimators\": np.arange(10,8000,50),\n",
    "      \"max_depth\": [None,3,5,10],\n",
    "      \"min_samples_split\": np.arange(2,21,2),\n",
    "      \"min_samples_leaf\" : np.arange(1,21,2),\n",
    "      \"max_features\": [0.5,1,'sqrt','auto','log2']\n",
    "       }"
   ]
  },
  {
   "cell_type": "code",
   "execution_count": 60,
   "metadata": {},
   "outputs": [
    {
     "name": "stdout",
     "output_type": "stream",
     "text": [
      "Fitting 5 folds for each of 10 candidates, totalling 50 fits\n",
      "[CV] END max_depth=3, max_features=sqrt, min_samples_leaf=13, min_samples_split=6, n_estimators=1910; total time=  32.7s\n",
      "[CV] END max_depth=3, max_features=sqrt, min_samples_leaf=13, min_samples_split=6, n_estimators=1910; total time=  38.1s\n",
      "[CV] END max_depth=3, max_features=sqrt, min_samples_leaf=13, min_samples_split=6, n_estimators=1910; total time=  37.4s\n",
      "[CV] END max_depth=3, max_features=sqrt, min_samples_leaf=13, min_samples_split=6, n_estimators=1910; total time=  33.5s\n",
      "[CV] END max_depth=3, max_features=sqrt, min_samples_leaf=13, min_samples_split=6, n_estimators=1910; total time=  32.5s\n",
      "[CV] END max_depth=3, max_features=log2, min_samples_leaf=3, min_samples_split=16, n_estimators=7360; total time= 2.1min\n",
      "[CV] END max_depth=3, max_features=log2, min_samples_leaf=3, min_samples_split=16, n_estimators=7360; total time= 2.0min\n",
      "[CV] END max_depth=3, max_features=log2, min_samples_leaf=3, min_samples_split=16, n_estimators=7360; total time= 2.2min\n",
      "[CV] END max_depth=3, max_features=log2, min_samples_leaf=3, min_samples_split=16, n_estimators=7360; total time= 2.0min\n",
      "[CV] END max_depth=3, max_features=log2, min_samples_leaf=3, min_samples_split=16, n_estimators=7360; total time= 1.9min\n",
      "[CV] END max_depth=3, max_features=auto, min_samples_leaf=5, min_samples_split=10, n_estimators=4610; total time= 6.3min\n",
      "[CV] END max_depth=3, max_features=auto, min_samples_leaf=5, min_samples_split=10, n_estimators=4610; total time= 6.1min\n",
      "[CV] END max_depth=3, max_features=auto, min_samples_leaf=5, min_samples_split=10, n_estimators=4610; total time= 6.4min\n",
      "[CV] END max_depth=3, max_features=auto, min_samples_leaf=5, min_samples_split=10, n_estimators=4610; total time= 6.3min\n",
      "[CV] END max_depth=3, max_features=auto, min_samples_leaf=5, min_samples_split=10, n_estimators=4610; total time= 7.7min\n",
      "[CV] END max_depth=10, max_features=1, min_samples_leaf=3, min_samples_split=20, n_estimators=6910; total time= 2.9min\n",
      "[CV] END max_depth=10, max_features=1, min_samples_leaf=3, min_samples_split=20, n_estimators=6910; total time= 2.5min\n",
      "[CV] END max_depth=10, max_features=1, min_samples_leaf=3, min_samples_split=20, n_estimators=6910; total time= 2.6min\n",
      "[CV] END max_depth=10, max_features=1, min_samples_leaf=3, min_samples_split=20, n_estimators=6910; total time= 2.6min\n",
      "[CV] END max_depth=10, max_features=1, min_samples_leaf=3, min_samples_split=20, n_estimators=6910; total time= 3.0min\n",
      "[CV] END max_depth=3, max_features=sqrt, min_samples_leaf=9, min_samples_split=20, n_estimators=1960; total time=  38.4s\n",
      "[CV] END max_depth=3, max_features=sqrt, min_samples_leaf=9, min_samples_split=20, n_estimators=1960; total time=  44.1s\n",
      "[CV] END max_depth=3, max_features=sqrt, min_samples_leaf=9, min_samples_split=20, n_estimators=1960; total time=  37.6s\n",
      "[CV] END max_depth=3, max_features=sqrt, min_samples_leaf=9, min_samples_split=20, n_estimators=1960; total time=  39.2s\n",
      "[CV] END max_depth=3, max_features=sqrt, min_samples_leaf=9, min_samples_split=20, n_estimators=1960; total time=  37.7s\n",
      "[CV] END max_depth=3, max_features=1, min_samples_leaf=17, min_samples_split=20, n_estimators=1410; total time=  16.9s\n",
      "[CV] END max_depth=3, max_features=1, min_samples_leaf=17, min_samples_split=20, n_estimators=1410; total time=  14.5s\n",
      "[CV] END max_depth=3, max_features=1, min_samples_leaf=17, min_samples_split=20, n_estimators=1410; total time=  20.2s\n",
      "[CV] END max_depth=3, max_features=1, min_samples_leaf=17, min_samples_split=20, n_estimators=1410; total time=  21.6s\n",
      "[CV] END max_depth=3, max_features=1, min_samples_leaf=17, min_samples_split=20, n_estimators=1410; total time=  23.1s\n",
      "[CV] END max_depth=5, max_features=sqrt, min_samples_leaf=19, min_samples_split=20, n_estimators=2610; total time= 1.2min\n",
      "[CV] END max_depth=5, max_features=sqrt, min_samples_leaf=19, min_samples_split=20, n_estimators=2610; total time= 1.2min\n",
      "[CV] END max_depth=5, max_features=sqrt, min_samples_leaf=19, min_samples_split=20, n_estimators=2610; total time= 1.3min\n",
      "[CV] END max_depth=5, max_features=sqrt, min_samples_leaf=19, min_samples_split=20, n_estimators=2610; total time= 1.4min\n",
      "[CV] END max_depth=5, max_features=sqrt, min_samples_leaf=19, min_samples_split=20, n_estimators=2610; total time= 1.2min\n",
      "[CV] END max_depth=None, max_features=auto, min_samples_leaf=9, min_samples_split=8, n_estimators=310; total time= 4.0min\n",
      "[CV] END max_depth=None, max_features=auto, min_samples_leaf=9, min_samples_split=8, n_estimators=310; total time= 3.6min\n",
      "[CV] END max_depth=None, max_features=auto, min_samples_leaf=9, min_samples_split=8, n_estimators=310; total time= 3.7min\n",
      "[CV] END max_depth=None, max_features=auto, min_samples_leaf=9, min_samples_split=8, n_estimators=310; total time= 3.5min\n",
      "[CV] END max_depth=None, max_features=auto, min_samples_leaf=9, min_samples_split=8, n_estimators=310; total time= 3.6min\n",
      "[CV] END max_depth=3, max_features=auto, min_samples_leaf=11, min_samples_split=18, n_estimators=2860; total time= 5.2min\n",
      "[CV] END max_depth=3, max_features=auto, min_samples_leaf=11, min_samples_split=18, n_estimators=2860; total time= 6.7min\n",
      "[CV] END max_depth=3, max_features=auto, min_samples_leaf=11, min_samples_split=18, n_estimators=2860; total time= 5.2min\n",
      "[CV] END max_depth=3, max_features=auto, min_samples_leaf=11, min_samples_split=18, n_estimators=2860; total time= 5.5min\n",
      "[CV] END max_depth=3, max_features=0.5, min_samples_leaf=9, min_samples_split=14, n_estimators=6910; total time= 7.6min\n",
      "[CV] END max_depth=3, max_features=0.5, min_samples_leaf=9, min_samples_split=14, n_estimators=6910; total time= 7.0min\n",
      "[CV] END max_depth=3, max_features=0.5, min_samples_leaf=9, min_samples_split=14, n_estimators=6910; total time= 9.5min\n",
      "[CV] END max_depth=3, max_features=0.5, min_samples_leaf=9, min_samples_split=14, n_estimators=6910; total time= 6.5min\n",
      "[CV] END max_depth=3, max_features=0.5, min_samples_leaf=9, min_samples_split=14, n_estimators=6910; total time= 6.0min\n"
     ]
    },
    {
     "data": {
      "text/plain": [
       "RandomizedSearchCV(cv=5, estimator=GradientBoostingClassifier(),\n",
       "                   param_distributions={'max_depth': [None, 3, 5, 10],\n",
       "                                        'max_features': [0.5, 1, 'sqrt', 'auto',\n",
       "                                                         'log2'],\n",
       "                                        'min_samples_leaf': array([ 1,  3,  5,  7,  9, 11, 13, 15, 17, 19]),\n",
       "                                        'min_samples_split': array([ 2,  4,  6,  8, 10, 12, 14, 16, 18, 20]),\n",
       "                                        'n_estimators': array([  10,   60,  110,  160,  210,  260,  310,  360,  410,  460,  510,\n",
       "        560,  610,  660,  710,  760,  810,...\n",
       "       4410, 4460, 4510, 4560, 4610, 4660, 4710, 4760, 4810, 4860, 4910,\n",
       "       4960, 5010, 5060, 5110, 5160, 5210, 5260, 5310, 5360, 5410, 5460,\n",
       "       5510, 5560, 5610, 5660, 5710, 5760, 5810, 5860, 5910, 5960, 6010,\n",
       "       6060, 6110, 6160, 6210, 6260, 6310, 6360, 6410, 6460, 6510, 6560,\n",
       "       6610, 6660, 6710, 6760, 6810, 6860, 6910, 6960, 7010, 7060, 7110,\n",
       "       7160, 7210, 7260, 7310, 7360, 7410, 7460, 7510, 7560, 7610, 7660,\n",
       "       7710, 7760, 7810, 7860, 7910, 7960])},\n",
       "                   verbose=2)"
      ]
     },
     "execution_count": 60,
     "metadata": {},
     "output_type": "execute_result"
    }
   ],
   "source": [
    "# Tune GradientBoostingRegressor \n",
    "#%% time \n",
    "\n",
    "\n",
    "np.random.seed(42)\n",
    "\n",
    "# Setup random hyperparametr search for GradientBoostingRegressor \n",
    "grid_p = RandomizedSearchCV(estimator=GradientBoostingClassifier(),param_distributions=grid_p,\n",
    "                           cv=5, n_iter=10,verbose=2)\n",
    "\n",
    "\n",
    "# Fit random hyperparameter search model for GradientBoostingRegressor\n",
    "grid_p.fit(X_train,y_train)"
   ]
  },
  {
   "cell_type": "code",
   "execution_count": 61,
   "metadata": {},
   "outputs": [
    {
     "data": {
      "text/plain": [
       "{'n_estimators': 1910,\n",
       " 'min_samples_split': 6,\n",
       " 'min_samples_leaf': 13,\n",
       " 'max_features': 'sqrt',\n",
       " 'max_depth': 3}"
      ]
     },
     "execution_count": 61,
     "metadata": {},
     "output_type": "execute_result"
    }
   ],
   "source": [
    "grid_p.best_params_"
   ]
  },
  {
   "cell_type": "code",
   "execution_count": 62,
   "metadata": {},
   "outputs": [
    {
     "data": {
      "text/plain": [
       "0.8652143522833178"
      ]
     },
     "execution_count": 62,
     "metadata": {},
     "output_type": "execute_result"
    }
   ],
   "source": [
    "grid_p.score(X_test,y_test)"
   ]
  },
  {
   "cell_type": "code",
   "execution_count": 63,
   "metadata": {},
   "outputs": [],
   "source": [
    "y_pr = grid_p.predict(X_test)"
   ]
  },
  {
   "cell_type": "code",
   "execution_count": 64,
   "metadata": {},
   "outputs": [
    {
     "data": {
      "text/plain": [
       "0.8720132481665483"
      ]
     },
     "execution_count": 64,
     "metadata": {},
     "output_type": "execute_result"
    }
   ],
   "source": [
    "precision_score(y_test,y_pr)"
   ]
  },
  {
   "cell_type": "code",
   "execution_count": 65,
   "metadata": {},
   "outputs": [
    {
     "data": {
      "text/plain": [
       "0.8568107856810786"
      ]
     },
     "execution_count": 65,
     "metadata": {},
     "output_type": "execute_result"
    }
   ],
   "source": [
    "recall_score(y_test,y_pr)"
   ]
  },
  {
   "cell_type": "code",
   "execution_count": 66,
   "metadata": {},
   "outputs": [
    {
     "name": "stdout",
     "output_type": "stream",
     "text": [
      "[[3593  689]\n",
      " [ 536 3766]]\n"
     ]
    }
   ],
   "source": [
    "print(confusion_matrix(y_test,y_preds))"
   ]
  },
  {
   "cell_type": "code",
   "execution_count": null,
   "metadata": {},
   "outputs": [],
   "source": []
  },
  {
   "cell_type": "code",
   "execution_count": 67,
   "metadata": {},
   "outputs": [
    {
     "name": "stdout",
     "output_type": "stream",
     "text": [
      "Wall time: 12min 3s\n",
      "Compiler : 139 ms\n",
      "Parser   : 2.2 s\n"
     ]
    },
    {
     "data": {
      "text/plain": [
       "GradientBoostingClassifier(max_features='sqrt', min_samples_leaf=13,\n",
       "                           min_samples_split=6, n_estimators=1910,\n",
       "                           random_state=42)"
      ]
     },
     "execution_count": 67,
     "metadata": {},
     "output_type": "execute_result"
    }
   ],
   "source": [
    "%%time \n",
    "\n",
    "# Most ideal hyperparameters \n",
    "ideal_model = GradientBoostingClassifier(n_estimators=1910, \n",
    "                                    min_samples_leaf=13,\n",
    "                                    min_samples_split=6,\n",
    "                                    max_features='sqrt',\n",
    "                                    max_depth=3,\n",
    "                                    random_state=42) # random state so our results are reproducible \n",
    "\n",
    "# Fit the ideal model \n",
    "ideal_model.fit(X_train,y_train)"
   ]
  },
  {
   "cell_type": "code",
   "execution_count": 68,
   "metadata": {},
   "outputs": [
    {
     "data": {
      "text/plain": [
       "0.8645153774464119"
      ]
     },
     "execution_count": 68,
     "metadata": {},
     "output_type": "execute_result"
    }
   ],
   "source": [
    "ideal_model.score(X_test,y_test)"
   ]
  },
  {
   "cell_type": "code",
   "execution_count": 69,
   "metadata": {},
   "outputs": [],
   "source": [
    "# Helper function for plotting feature importance \n",
    "def plot_features(columns, importances, n=20):\n",
    "    df = (pd.DataFrame({\"features\":columns,\"feature_importances\":importances})\n",
    "          .sort_values(\"feature_importances\",ascending=False)\n",
    "          .reset_index(drop=True))\n",
    "    \n",
    "    # Plot the dataframe \n",
    "    fig, ax = plt.subplots()\n",
    "    ax.barh(df[\"features\"][:n], df[\"feature_importances\"][:20])\n",
    "    ax.set_ylabel(\"Features\")\n",
    "    ax.set_xlabel(\"Feature importance\")\n",
    "    ax.invert_yaxis()"
   ]
  },
  {
   "cell_type": "code",
   "execution_count": 70,
   "metadata": {},
   "outputs": [
    {
     "data": {
      "image/png": "[encoded data removed]",
      "text/plain": [
       "<Figure size 432x288 with 1 Axes>"
      ]
     },
     "metadata": {
      "needs_background": "light"
     },
     "output_type": "display_data"
    }
   ],
   "source": [
    "plot_features(X.columns, ideal_model.feature_importances_)"
   ]
  },
  {
   "cell_type": "code",
   "execution_count": null,
   "metadata": {},
   "outputs": [],
   "source": []
  }
 ],
 "metadata": {
  "kernelspec": {
   "display_name": "Python 3",
   "language": "python",
   "name": "python3"
  },
  "language_info": {
   "codemirror_mode": {
    "name": "ipython",
    "version": 3
   },
   "file_extension": ".py",
   "mimetype": "text/x-python",
   "name": "python",
   "nbconvert_exporter": "python",
   "pygments_lexer": "ipython3",
   "version": "3.8.5"
  }
 },
 "nbformat": 4,
 "nbformat_minor": 4
}
