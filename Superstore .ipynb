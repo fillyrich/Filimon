{
 "cells": [
  {
   "cell_type": "markdown",
   "metadata": {},
   "source": [
    "# Superstore Project\n",
    "\n",
    "For this capstone project we will be analyzing some superstore giant data from [Kaggle](https://www.kaggle.com/datasets/vivek468/superstore-dataset-final?resource=download).\n",
    "\n",
    "**Context** \n",
    "\n",
    "They are seeking our knowledge  in understanding what works best for them. They would like to understand which products, regions, categories and customer segments they should target or avoid.\n"
   ]
  },
  {
   "cell_type": "markdown",
   "metadata": {},
   "source": [
    "# Features \n",
    "* Row ID => Unique ID for each row.\n",
    "* Order ID => Unique Order ID for each Customer.\n",
    "* Order Date => Order Date of the product.\n",
    "* Ship Date => Shipping Date of the Product.\n",
    "* Ship Mode=> Shipping Mode specified by the Customer.\n",
    "* Customer ID => Unique ID to identify each Customer.\n",
    "* Customer Name => Name of the Customer.\n",
    "* Segment => The segment where the Customer belongs.\n",
    "* Country => Country of residence of the Customer.\n",
    "* City => City of residence of of the Customer.\n",
    "* State => State of residence of the Customer.\n",
    "* Postal Code => Postal Code of every Customer.\n",
    "* Region => Region where the Customer belong.\n",
    "* Product ID => Unique ID of the Product.\n",
    "* Category => Category of the product ordered.\n",
    "* Sub-Category => Sub-Category of the product ordered.\n",
    "* Product Name => Name of the Product\n",
    "* Sales => Sales of the Product.\n",
    "* Quantity => Quantity of the Product.\n",
    "* Discount => Discount provided.\n",
    "* Profit => Profit/Loss incurred."
   ]
  },
  {
   "cell_type": "markdown",
   "metadata": {},
   "source": [
    "## Preparing the tools "
   ]
  },
  {
   "cell_type": "code",
   "execution_count": 1,
   "metadata": {},
   "outputs": [],
   "source": [
    "# Regular EDA (exploratory data analysis) and plotting libraries\n",
    "import numpy as np\n",
    "import pandas as pd\n",
    "import matplotlib.pyplot as plt\n",
    "import seaborn as sns"
   ]
  },
  {
   "cell_type": "code",
   "execution_count": 2,
   "metadata": {},
   "outputs": [],
   "source": [
    "#we want our plots to appear inside the notebook \n",
    "%matplotlib inline "
   ]
  },
  {
   "cell_type": "code",
   "execution_count": 3,
   "metadata": {},
   "outputs": [],
   "source": [
    "import cufflinks as cf"
   ]
  },
  {
   "cell_type": "code",
   "execution_count": 4,
   "metadata": {},
   "outputs": [],
   "source": [
    "from plotly.offline import download_plotlyjs, init_notebook_mode,plot,iplot"
   ]
  },
  {
   "cell_type": "code",
   "execution_count": 5,
   "metadata": {},
   "outputs": [
    {
     "data": {
      "text/html": [
       "        <script type=\"text/javascript\">\n",
       "        window.PlotlyConfig = {MathJaxConfig: 'local'};\n",
       "        if (window.MathJax) {MathJax.Hub.Config({SVG: {font: \"STIX-Web\"}});}\n",
       "        if (typeof require !== 'undefined') {\n",
       "        require.undef(\"plotly\");\n",
       "        requirejs.config({\n",
       "            paths: {\n",
       "                'plotly': ['https://cdn.plot.ly/plotly-latest.min']\n",
       "            }\n",
       "        });\n",
       "        require(['plotly'], function(Plotly) {\n",
       "            window._Plotly = Plotly;\n",
       "        });\n",
       "        }\n",
       "        </script>\n",
       "        "
      ]
     },
     "metadata": {},
     "output_type": "display_data"
    }
   ],
   "source": [
    "init_notebook_mode(connected=True)"
   ]
  },
  {
   "cell_type": "code",
   "execution_count": 6,
   "metadata": {},
   "outputs": [
    {
     "data": {
      "text/html": [
       "        <script type=\"text/javascript\">\n",
       "        window.PlotlyConfig = {MathJaxConfig: 'local'};\n",
       "        if (window.MathJax) {MathJax.Hub.Config({SVG: {font: \"STIX-Web\"}});}\n",
       "        if (typeof require !== 'undefined') {\n",
       "        require.undef(\"plotly\");\n",
       "        requirejs.config({\n",
       "            paths: {\n",
       "                'plotly': ['https://cdn.plot.ly/plotly-latest.min']\n",
       "            }\n",
       "        });\n",
       "        require(['plotly'], function(Plotly) {\n",
       "            window._Plotly = Plotly;\n",
       "        });\n",
       "        }\n",
       "        </script>\n",
       "        "
      ]
     },
     "metadata": {},
     "output_type": "display_data"
    }
   ],
   "source": [
    "cf.go_offline()"
   ]
  },
  {
   "cell_type": "markdown",
   "metadata": {},
   "source": [
    "## Load Data "
   ]
  },
  {
   "cell_type": "code",
   "execution_count": 7,
   "metadata": {},
   "outputs": [],
   "source": [
    "df = pd.read_csv('Superstore.csv',encoding= 'unicode_escape')"
   ]
  },
  {
   "cell_type": "code",
   "execution_count": 8,
   "metadata": {},
   "outputs": [
    {
     "data": {
      "text/html": [
       "<div>\n",
       "<style scoped>\n",
       "    .dataframe tbody tr th:only-of-type {\n",
       "        vertical-align: middle;\n",
       "    }\n",
       "\n",
       "    .dataframe tbody tr th {\n",
       "        vertical-align: top;\n",
       "    }\n",
       "\n",
       "    .dataframe thead th {\n",
       "        text-align: right;\n",
       "    }\n",
       "</style>\n",
       "<table border=\"1\" class=\"dataframe\">\n",
       "  <thead>\n",
       "    <tr style=\"text-align: right;\">\n",
       "      <th></th>\n",
       "      <th>Row ID</th>\n",
       "      <th>Order ID</th>\n",
       "      <th>Order Date</th>\n",
       "      <th>Ship Date</th>\n",
       "      <th>Ship Mode</th>\n",
       "      <th>Customer ID</th>\n",
       "      <th>Customer Name</th>\n",
       "      <th>Segment</th>\n",
       "      <th>Country</th>\n",
       "      <th>City</th>\n",
       "      <th>...</th>\n",
       "      <th>Postal Code</th>\n",
       "      <th>Region</th>\n",
       "      <th>Product ID</th>\n",
       "      <th>Category</th>\n",
       "      <th>Sub-Category</th>\n",
       "      <th>Product Name</th>\n",
       "      <th>Sales</th>\n",
       "      <th>Quantity</th>\n",
       "      <th>Discount</th>\n",
       "      <th>Profit</th>\n",
       "    </tr>\n",
       "  </thead>\n",
       "  <tbody>\n",
       "    <tr>\n",
       "      <th>0</th>\n",
       "      <td>1</td>\n",
       "      <td>CA-2016-152156</td>\n",
       "      <td>11/8/2016</td>\n",
       "      <td>11/11/2016</td>\n",
       "      <td>Second Class</td>\n",
       "      <td>CG-12520</td>\n",
       "      <td>Claire Gute</td>\n",
       "      <td>Consumer</td>\n",
       "      <td>United States</td>\n",
       "      <td>Henderson</td>\n",
       "      <td>...</td>\n",
       "      <td>42420</td>\n",
       "      <td>South</td>\n",
       "      <td>FUR-BO-10001798</td>\n",
       "      <td>Furniture</td>\n",
       "      <td>Bookcases</td>\n",
       "      <td>Bush Somerset Collection Bookcase</td>\n",
       "      <td>261.9600</td>\n",
       "      <td>2</td>\n",
       "      <td>0.00</td>\n",
       "      <td>41.9136</td>\n",
       "    </tr>\n",
       "    <tr>\n",
       "      <th>1</th>\n",
       "      <td>2</td>\n",
       "      <td>CA-2016-152156</td>\n",
       "      <td>11/8/2016</td>\n",
       "      <td>11/11/2016</td>\n",
       "      <td>Second Class</td>\n",
       "      <td>CG-12520</td>\n",
       "      <td>Claire Gute</td>\n",
       "      <td>Consumer</td>\n",
       "      <td>United States</td>\n",
       "      <td>Henderson</td>\n",
       "      <td>...</td>\n",
       "      <td>42420</td>\n",
       "      <td>South</td>\n",
       "      <td>FUR-CH-10000454</td>\n",
       "      <td>Furniture</td>\n",
       "      <td>Chairs</td>\n",
       "      <td>Hon Deluxe Fabric Upholstered Stacking Chairs,...</td>\n",
       "      <td>731.9400</td>\n",
       "      <td>3</td>\n",
       "      <td>0.00</td>\n",
       "      <td>219.5820</td>\n",
       "    </tr>\n",
       "    <tr>\n",
       "      <th>2</th>\n",
       "      <td>3</td>\n",
       "      <td>CA-2016-138688</td>\n",
       "      <td>6/12/2016</td>\n",
       "      <td>6/16/2016</td>\n",
       "      <td>Second Class</td>\n",
       "      <td>DV-13045</td>\n",
       "      <td>Darrin Van Huff</td>\n",
       "      <td>Corporate</td>\n",
       "      <td>United States</td>\n",
       "      <td>Los Angeles</td>\n",
       "      <td>...</td>\n",
       "      <td>90036</td>\n",
       "      <td>West</td>\n",
       "      <td>OFF-LA-10000240</td>\n",
       "      <td>Office Supplies</td>\n",
       "      <td>Labels</td>\n",
       "      <td>Self-Adhesive Address Labels for Typewriters b...</td>\n",
       "      <td>14.6200</td>\n",
       "      <td>2</td>\n",
       "      <td>0.00</td>\n",
       "      <td>6.8714</td>\n",
       "    </tr>\n",
       "    <tr>\n",
       "      <th>3</th>\n",
       "      <td>4</td>\n",
       "      <td>US-2015-108966</td>\n",
       "      <td>10/11/2015</td>\n",
       "      <td>10/18/2015</td>\n",
       "      <td>Standard Class</td>\n",
       "      <td>SO-20335</td>\n",
       "      <td>Sean O'Donnell</td>\n",
       "      <td>Consumer</td>\n",
       "      <td>United States</td>\n",
       "      <td>Fort Lauderdale</td>\n",
       "      <td>...</td>\n",
       "      <td>33311</td>\n",
       "      <td>South</td>\n",
       "      <td>FUR-TA-10000577</td>\n",
       "      <td>Furniture</td>\n",
       "      <td>Tables</td>\n",
       "      <td>Bretford CR4500 Series Slim Rectangular Table</td>\n",
       "      <td>957.5775</td>\n",
       "      <td>5</td>\n",
       "      <td>0.45</td>\n",
       "      <td>-383.0310</td>\n",
       "    </tr>\n",
       "    <tr>\n",
       "      <th>4</th>\n",
       "      <td>5</td>\n",
       "      <td>US-2015-108966</td>\n",
       "      <td>10/11/2015</td>\n",
       "      <td>10/18/2015</td>\n",
       "      <td>Standard Class</td>\n",
       "      <td>SO-20335</td>\n",
       "      <td>Sean O'Donnell</td>\n",
       "      <td>Consumer</td>\n",
       "      <td>United States</td>\n",
       "      <td>Fort Lauderdale</td>\n",
       "      <td>...</td>\n",
       "      <td>33311</td>\n",
       "      <td>South</td>\n",
       "      <td>OFF-ST-10000760</td>\n",
       "      <td>Office Supplies</td>\n",
       "      <td>Storage</td>\n",
       "      <td>Eldon Fold 'N Roll Cart System</td>\n",
       "      <td>22.3680</td>\n",
       "      <td>2</td>\n",
       "      <td>0.20</td>\n",
       "      <td>2.5164</td>\n",
       "    </tr>\n",
       "  </tbody>\n",
       "</table>\n",
       "<p>5 rows × 21 columns</p>\n",
       "</div>"
      ],
      "text/plain": [
       "   Row ID        Order ID  Order Date   Ship Date       Ship Mode Customer ID  \\\n",
       "0       1  CA-2016-152156   11/8/2016  11/11/2016    Second Class    CG-12520   \n",
       "1       2  CA-2016-152156   11/8/2016  11/11/2016    Second Class    CG-12520   \n",
       "2       3  CA-2016-138688   6/12/2016   6/16/2016    Second Class    DV-13045   \n",
       "3       4  US-2015-108966  10/11/2015  10/18/2015  Standard Class    SO-20335   \n",
       "4       5  US-2015-108966  10/11/2015  10/18/2015  Standard Class    SO-20335   \n",
       "\n",
       "     Customer Name    Segment        Country             City  ...  \\\n",
       "0      Claire Gute   Consumer  United States        Henderson  ...   \n",
       "1      Claire Gute   Consumer  United States        Henderson  ...   \n",
       "2  Darrin Van Huff  Corporate  United States      Los Angeles  ...   \n",
       "3   Sean O'Donnell   Consumer  United States  Fort Lauderdale  ...   \n",
       "4   Sean O'Donnell   Consumer  United States  Fort Lauderdale  ...   \n",
       "\n",
       "  Postal Code  Region       Product ID         Category Sub-Category  \\\n",
       "0       42420   South  FUR-BO-10001798        Furniture    Bookcases   \n",
       "1       42420   South  FUR-CH-10000454        Furniture       Chairs   \n",
       "2       90036    West  OFF-LA-10000240  Office Supplies       Labels   \n",
       "3       33311   South  FUR-TA-10000577        Furniture       Tables   \n",
       "4       33311   South  OFF-ST-10000760  Office Supplies      Storage   \n",
       "\n",
       "                                        Product Name     Sales  Quantity  \\\n",
       "0                  Bush Somerset Collection Bookcase  261.9600         2   \n",
       "1  Hon Deluxe Fabric Upholstered Stacking Chairs,...  731.9400         3   \n",
       "2  Self-Adhesive Address Labels for Typewriters b...   14.6200         2   \n",
       "3      Bretford CR4500 Series Slim Rectangular Table  957.5775         5   \n",
       "4                     Eldon Fold 'N Roll Cart System   22.3680         2   \n",
       "\n",
       "   Discount    Profit  \n",
       "0      0.00   41.9136  \n",
       "1      0.00  219.5820  \n",
       "2      0.00    6.8714  \n",
       "3      0.45 -383.0310  \n",
       "4      0.20    2.5164  \n",
       "\n",
       "[5 rows x 21 columns]"
      ]
     },
     "execution_count": 8,
     "metadata": {},
     "output_type": "execute_result"
    }
   ],
   "source": [
    "df.head()"
   ]
  },
  {
   "cell_type": "markdown",
   "metadata": {},
   "source": [
    "## Exploratory Data analysis"
   ]
  },
  {
   "cell_type": "code",
   "execution_count": 9,
   "metadata": {},
   "outputs": [
    {
     "name": "stdout",
     "output_type": "stream",
     "text": [
      "<class 'pandas.core.frame.DataFrame'>\n",
      "RangeIndex: 9994 entries, 0 to 9993\n",
      "Data columns (total 21 columns):\n",
      " #   Column         Non-Null Count  Dtype  \n",
      "---  ------         --------------  -----  \n",
      " 0   Row ID         9994 non-null   int64  \n",
      " 1   Order ID       9994 non-null   object \n",
      " 2   Order Date     9994 non-null   object \n",
      " 3   Ship Date      9994 non-null   object \n",
      " 4   Ship Mode      9994 non-null   object \n",
      " 5   Customer ID    9994 non-null   object \n",
      " 6   Customer Name  9994 non-null   object \n",
      " 7   Segment        9994 non-null   object \n",
      " 8   Country        9994 non-null   object \n",
      " 9   City           9994 non-null   object \n",
      " 10  State          9994 non-null   object \n",
      " 11  Postal Code    9994 non-null   int64  \n",
      " 12  Region         9994 non-null   object \n",
      " 13  Product ID     9994 non-null   object \n",
      " 14  Category       9994 non-null   object \n",
      " 15  Sub-Category   9994 non-null   object \n",
      " 16  Product Name   9994 non-null   object \n",
      " 17  Sales          9994 non-null   float64\n",
      " 18  Quantity       9994 non-null   int64  \n",
      " 19  Discount       9994 non-null   float64\n",
      " 20  Profit         9994 non-null   float64\n",
      "dtypes: float64(3), int64(3), object(15)\n",
      "memory usage: 1.6+ MB\n"
     ]
    }
   ],
   "source": [
    "df.info()"
   ]
  },
  {
   "cell_type": "code",
   "execution_count": 10,
   "metadata": {},
   "outputs": [
    {
     "data": {
      "text/plain": [
       "(9994, 21)"
      ]
     },
     "execution_count": 10,
     "metadata": {},
     "output_type": "execute_result"
    }
   ],
   "source": [
    "df.shape"
   ]
  },
  {
   "cell_type": "code",
   "execution_count": 11,
   "metadata": {},
   "outputs": [
    {
     "data": {
      "text/html": [
       "<div>\n",
       "<style scoped>\n",
       "    .dataframe tbody tr th:only-of-type {\n",
       "        vertical-align: middle;\n",
       "    }\n",
       "\n",
       "    .dataframe tbody tr th {\n",
       "        vertical-align: top;\n",
       "    }\n",
       "\n",
       "    .dataframe thead th {\n",
       "        text-align: right;\n",
       "    }\n",
       "</style>\n",
       "<table border=\"1\" class=\"dataframe\">\n",
       "  <thead>\n",
       "    <tr style=\"text-align: right;\">\n",
       "      <th></th>\n",
       "      <th>Row ID</th>\n",
       "      <th>Postal Code</th>\n",
       "      <th>Sales</th>\n",
       "      <th>Quantity</th>\n",
       "      <th>Discount</th>\n",
       "      <th>Profit</th>\n",
       "    </tr>\n",
       "  </thead>\n",
       "  <tbody>\n",
       "    <tr>\n",
       "      <th>count</th>\n",
       "      <td>9994.000000</td>\n",
       "      <td>9994.000000</td>\n",
       "      <td>9994.000000</td>\n",
       "      <td>9994.000000</td>\n",
       "      <td>9994.000000</td>\n",
       "      <td>9994.000000</td>\n",
       "    </tr>\n",
       "    <tr>\n",
       "      <th>mean</th>\n",
       "      <td>4997.500000</td>\n",
       "      <td>55190.379428</td>\n",
       "      <td>229.858001</td>\n",
       "      <td>3.789574</td>\n",
       "      <td>0.156203</td>\n",
       "      <td>28.656896</td>\n",
       "    </tr>\n",
       "    <tr>\n",
       "      <th>std</th>\n",
       "      <td>2885.163629</td>\n",
       "      <td>32063.693350</td>\n",
       "      <td>623.245101</td>\n",
       "      <td>2.225110</td>\n",
       "      <td>0.206452</td>\n",
       "      <td>234.260108</td>\n",
       "    </tr>\n",
       "    <tr>\n",
       "      <th>min</th>\n",
       "      <td>1.000000</td>\n",
       "      <td>1040.000000</td>\n",
       "      <td>0.444000</td>\n",
       "      <td>1.000000</td>\n",
       "      <td>0.000000</td>\n",
       "      <td>-6599.978000</td>\n",
       "    </tr>\n",
       "    <tr>\n",
       "      <th>25%</th>\n",
       "      <td>2499.250000</td>\n",
       "      <td>23223.000000</td>\n",
       "      <td>17.280000</td>\n",
       "      <td>2.000000</td>\n",
       "      <td>0.000000</td>\n",
       "      <td>1.728750</td>\n",
       "    </tr>\n",
       "    <tr>\n",
       "      <th>50%</th>\n",
       "      <td>4997.500000</td>\n",
       "      <td>56430.500000</td>\n",
       "      <td>54.490000</td>\n",
       "      <td>3.000000</td>\n",
       "      <td>0.200000</td>\n",
       "      <td>8.666500</td>\n",
       "    </tr>\n",
       "    <tr>\n",
       "      <th>75%</th>\n",
       "      <td>7495.750000</td>\n",
       "      <td>90008.000000</td>\n",
       "      <td>209.940000</td>\n",
       "      <td>5.000000</td>\n",
       "      <td>0.200000</td>\n",
       "      <td>29.364000</td>\n",
       "    </tr>\n",
       "    <tr>\n",
       "      <th>max</th>\n",
       "      <td>9994.000000</td>\n",
       "      <td>99301.000000</td>\n",
       "      <td>22638.480000</td>\n",
       "      <td>14.000000</td>\n",
       "      <td>0.800000</td>\n",
       "      <td>8399.976000</td>\n",
       "    </tr>\n",
       "  </tbody>\n",
       "</table>\n",
       "</div>"
      ],
      "text/plain": [
       "            Row ID   Postal Code         Sales     Quantity     Discount  \\\n",
       "count  9994.000000   9994.000000   9994.000000  9994.000000  9994.000000   \n",
       "mean   4997.500000  55190.379428    229.858001     3.789574     0.156203   \n",
       "std    2885.163629  32063.693350    623.245101     2.225110     0.206452   \n",
       "min       1.000000   1040.000000      0.444000     1.000000     0.000000   \n",
       "25%    2499.250000  23223.000000     17.280000     2.000000     0.000000   \n",
       "50%    4997.500000  56430.500000     54.490000     3.000000     0.200000   \n",
       "75%    7495.750000  90008.000000    209.940000     5.000000     0.200000   \n",
       "max    9994.000000  99301.000000  22638.480000    14.000000     0.800000   \n",
       "\n",
       "            Profit  \n",
       "count  9994.000000  \n",
       "mean     28.656896  \n",
       "std     234.260108  \n",
       "min   -6599.978000  \n",
       "25%       1.728750  \n",
       "50%       8.666500  \n",
       "75%      29.364000  \n",
       "max    8399.976000  "
      ]
     },
     "execution_count": 11,
     "metadata": {},
     "output_type": "execute_result"
    }
   ],
   "source": [
    "df.describe()"
   ]
  },
  {
   "cell_type": "markdown",
   "metadata": {},
   "source": [
    "### Add datetime parameters for `Order Date` column "
   ]
  },
  {
   "cell_type": "code",
   "execution_count": 12,
   "metadata": {},
   "outputs": [
    {
     "data": {
      "text/plain": [
       "dtype('O')"
      ]
     },
     "execution_count": 12,
     "metadata": {},
     "output_type": "execute_result"
    }
   ],
   "source": [
    "df['Order Date'].dtype # the order date is object type "
   ]
  },
  {
   "cell_type": "code",
   "execution_count": 13,
   "metadata": {},
   "outputs": [],
   "source": [
    "df['Order Date'] = pd.to_datetime(df['Order Date']) # changing order date type to datetime type"
   ]
  },
  {
   "cell_type": "code",
   "execution_count": 14,
   "metadata": {},
   "outputs": [
    {
     "data": {
      "text/plain": [
       "1"
      ]
     },
     "execution_count": 14,
     "metadata": {},
     "output_type": "execute_result"
    }
   ],
   "source": [
    "df['Order Date'][0].dayofweek"
   ]
  },
  {
   "cell_type": "code",
   "execution_count": 15,
   "metadata": {},
   "outputs": [],
   "source": [
    "df['orderDayofweek']  =  df['Order Date'].apply(lambda x: x.dayofweek)\n",
    "df['orderMonth'] = df['Order Date'].apply(lambda x: x.month)\n",
    "df['orderYear'] = df['Order Date'].apply(lambda x: x.year)"
   ]
  },
  {
   "cell_type": "code",
   "execution_count": 16,
   "metadata": {},
   "outputs": [],
   "source": [
    "dayOfWeek = {0:'Mon',1:'Tue',2:'Wed',3:'Thu',4:'Fri',5:'Sat',6:'Sun'}\n",
    "df['orderDayofweek'] = df['orderDayofweek'].map(dayOfWeek)"
   ]
  },
  {
   "cell_type": "code",
   "execution_count": 17,
   "metadata": {},
   "outputs": [
    {
     "name": "stdout",
     "output_type": "stream",
     "text": [
      "<class 'pandas.core.frame.DataFrame'>\n",
      "RangeIndex: 9994 entries, 0 to 9993\n",
      "Data columns (total 24 columns):\n",
      " #   Column          Non-Null Count  Dtype         \n",
      "---  ------          --------------  -----         \n",
      " 0   Row ID          9994 non-null   int64         \n",
      " 1   Order ID        9994 non-null   object        \n",
      " 2   Order Date      9994 non-null   datetime64[ns]\n",
      " 3   Ship Date       9994 non-null   object        \n",
      " 4   Ship Mode       9994 non-null   object        \n",
      " 5   Customer ID     9994 non-null   object        \n",
      " 6   Customer Name   9994 non-null   object        \n",
      " 7   Segment         9994 non-null   object        \n",
      " 8   Country         9994 non-null   object        \n",
      " 9   City            9994 non-null   object        \n",
      " 10  State           9994 non-null   object        \n",
      " 11  Postal Code     9994 non-null   int64         \n",
      " 12  Region          9994 non-null   object        \n",
      " 13  Product ID      9994 non-null   object        \n",
      " 14  Category        9994 non-null   object        \n",
      " 15  Sub-Category    9994 non-null   object        \n",
      " 16  Product Name    9994 non-null   object        \n",
      " 17  Sales           9994 non-null   float64       \n",
      " 18  Quantity        9994 non-null   int64         \n",
      " 19  Discount        9994 non-null   float64       \n",
      " 20  Profit          9994 non-null   float64       \n",
      " 21  orderDayofweek  9994 non-null   object        \n",
      " 22  orderMonth      9994 non-null   int64         \n",
      " 23  orderYear       9994 non-null   int64         \n",
      "dtypes: datetime64[ns](1), float64(3), int64(5), object(15)\n",
      "memory usage: 1.8+ MB\n"
     ]
    }
   ],
   "source": [
    "df.info()"
   ]
  },
  {
   "cell_type": "code",
   "execution_count": 18,
   "metadata": {},
   "outputs": [],
   "source": [
    "# Now we've enriched our DataFrame with date time features, we can remove 'order date'\n",
    "df.drop('Order Date',axis=1,inplace=True)"
   ]
  },
  {
   "cell_type": "markdown",
   "metadata": {},
   "source": [
    "### Add datetime parameters for `ship date` column "
   ]
  },
  {
   "cell_type": "code",
   "execution_count": 19,
   "metadata": {},
   "outputs": [
    {
     "data": {
      "text/plain": [
       "dtype('O')"
      ]
     },
     "execution_count": 19,
     "metadata": {},
     "output_type": "execute_result"
    }
   ],
   "source": [
    "df['Ship Date'].dtype # the shipe date is object type "
   ]
  },
  {
   "cell_type": "code",
   "execution_count": 20,
   "metadata": {},
   "outputs": [],
   "source": [
    "# convert ship date to datetime type \n",
    "df['Ship Date'] = pd.to_datetime(df['Ship Date'])"
   ]
  },
  {
   "cell_type": "code",
   "execution_count": 21,
   "metadata": {},
   "outputs": [
    {
     "data": {
      "text/plain": [
       "dtype('<M8[ns]')"
      ]
     },
     "execution_count": 21,
     "metadata": {},
     "output_type": "execute_result"
    }
   ],
   "source": [
    "df['Ship Date'].dtype"
   ]
  },
  {
   "cell_type": "code",
   "execution_count": 22,
   "metadata": {},
   "outputs": [
    {
     "data": {
      "text/plain": [
       "2016"
      ]
     },
     "execution_count": 22,
     "metadata": {},
     "output_type": "execute_result"
    }
   ],
   "source": [
    "df['Ship Date'][0].year"
   ]
  },
  {
   "cell_type": "code",
   "execution_count": 23,
   "metadata": {},
   "outputs": [],
   "source": [
    "df['shipDayofweek'] = df['Ship Date'].apply(lambda x: x.dayofweek)\n",
    "df['shipMonth'] = df['Ship Date'].apply(lambda x: x.month)\n",
    "df['shipYear'] = df['Ship Date'].apply(lambda x: x.year)"
   ]
  },
  {
   "cell_type": "code",
   "execution_count": 24,
   "metadata": {},
   "outputs": [],
   "source": [
    "dayOfWeek = {0:'Mon',1:'Tue',2:'Wed',3:'Thu',4:'Fri',5:'Sat',6:'Sun'}\n",
    "df['shipDayofweek'] = df['shipDayofweek'].map(dayOfWeek)"
   ]
  },
  {
   "cell_type": "code",
   "execution_count": 25,
   "metadata": {},
   "outputs": [],
   "source": [
    "# Now we've enriched our DataFrame with date time features, we can remove 'saledate'\n",
    "df.drop('Ship Date',axis=1,inplace=True)"
   ]
  },
  {
   "cell_type": "code",
   "execution_count": 26,
   "metadata": {},
   "outputs": [
    {
     "name": "stdout",
     "output_type": "stream",
     "text": [
      "<class 'pandas.core.frame.DataFrame'>\n",
      "RangeIndex: 9994 entries, 0 to 9993\n",
      "Data columns (total 25 columns):\n",
      " #   Column          Non-Null Count  Dtype  \n",
      "---  ------          --------------  -----  \n",
      " 0   Row ID          9994 non-null   int64  \n",
      " 1   Order ID        9994 non-null   object \n",
      " 2   Ship Mode       9994 non-null   object \n",
      " 3   Customer ID     9994 non-null   object \n",
      " 4   Customer Name   9994 non-null   object \n",
      " 5   Segment         9994 non-null   object \n",
      " 6   Country         9994 non-null   object \n",
      " 7   City            9994 non-null   object \n",
      " 8   State           9994 non-null   object \n",
      " 9   Postal Code     9994 non-null   int64  \n",
      " 10  Region          9994 non-null   object \n",
      " 11  Product ID      9994 non-null   object \n",
      " 12  Category        9994 non-null   object \n",
      " 13  Sub-Category    9994 non-null   object \n",
      " 14  Product Name    9994 non-null   object \n",
      " 15  Sales           9994 non-null   float64\n",
      " 16  Quantity        9994 non-null   int64  \n",
      " 17  Discount        9994 non-null   float64\n",
      " 18  Profit          9994 non-null   float64\n",
      " 19  orderDayofweek  9994 non-null   object \n",
      " 20  orderMonth      9994 non-null   int64  \n",
      " 21  orderYear       9994 non-null   int64  \n",
      " 22  shipDayofweek   9994 non-null   object \n",
      " 23  shipMonth       9994 non-null   int64  \n",
      " 24  shipYear        9994 non-null   int64  \n",
      "dtypes: float64(3), int64(7), object(15)\n",
      "memory usage: 1.9+ MB\n"
     ]
    }
   ],
   "source": [
    "df.info()"
   ]
  },
  {
   "cell_type": "code",
   "execution_count": 29,
   "metadata": {},
   "outputs": [
    {
     "data": {
      "text/plain": [
       "<AxesSubplot:>"
      ]
     },
     "execution_count": 29,
     "metadata": {},
     "output_type": "execute_result"
    },
    {
     "data": {
      "image/png": "[encoded data removed]",
      "text/plain": [
       "<Figure size 432x288 with 1 Axes>"
      ]
     },
     "metadata": {
      "needs_background": "light"
     },
     "output_type": "display_data"
    }
   ],
   "source": [
    "df['shipYear'].value_counts().plot.bar()"
   ]
  },
  {
   "cell_type": "code",
   "execution_count": 30,
   "metadata": {},
   "outputs": [
    {
     "data": {
      "text/plain": [
       "<AxesSubplot:>"
      ]
     },
     "execution_count": 30,
     "metadata": {},
     "output_type": "execute_result"
    },
    {
     "data": {
      "image/png": "[encoded data removed]",
      "text/plain": [
       "<Figure size 432x288 with 1 Axes>"
      ]
     },
     "metadata": {
      "needs_background": "light"
     },
     "output_type": "display_data"
    }
   ],
   "source": [
    "df['orderYear'].value_counts().plot.bar()"
   ]
  },
  {
   "cell_type": "code",
   "execution_count": 31,
   "metadata": {},
   "outputs": [
    {
     "data": {
      "text/plain": [
       "<matplotlib.legend.Legend at 0x2b31d01f0a0>"
      ]
     },
     "execution_count": 31,
     "metadata": {},
     "output_type": "execute_result"
    },
    {
     "data": {
      "image/png": "[encoded data removed]",
      "text/plain": [
       "<Figure size 432x288 with 1 Axes>"
      ]
     },
     "metadata": {
      "needs_background": "light"
     },
     "output_type": "display_data"
    }
   ],
   "source": [
    "#Ship year Frequency according to category \n",
    "sns.countplot(x='shipYear',data=df,hue='Category')\n",
    "plt.legend(loc='upper left', bbox_to_anchor=(1, 1))"
   ]
  },
  {
   "cell_type": "code",
   "execution_count": 32,
   "metadata": {},
   "outputs": [
    {
     "data": {
      "text/plain": [
       "<matplotlib.legend.Legend at 0x2b31d0a3160>"
      ]
     },
     "execution_count": 32,
     "metadata": {},
     "output_type": "execute_result"
    },
    {
     "data": {
      "image/png": "[encoded data removed]",
      "text/plain": [
       "<Figure size 432x288 with 1 Axes>"
      ]
     },
     "metadata": {
      "needs_background": "light"
     },
     "output_type": "display_data"
    }
   ],
   "source": [
    "# Order year Frequency according to category \n",
    "sns.countplot(x='orderYear',data=df,hue='Category')\n",
    "plt.legend(loc='upper left', bbox_to_anchor=(1, 1))"
   ]
  },
  {
   "cell_type": "code",
   "execution_count": 33,
   "metadata": {},
   "outputs": [
    {
     "data": {
      "text/plain": [
       "<matplotlib.legend.Legend at 0x2b31d1437c0>"
      ]
     },
     "execution_count": 33,
     "metadata": {},
     "output_type": "execute_result"
    },
    {
     "data": {
      "image/png": "[encoded data removed]",
      "text/plain": [
       "<Figure size 720x360 with 1 Axes>"
      ]
     },
     "metadata": {
      "needs_background": "light"
     },
     "output_type": "display_data"
    }
   ],
   "source": [
    "# Ship year Frequency according to sub-category \n",
    "plt.figure(figsize=(10,5))\n",
    "sns.countplot(x='shipYear',data=df,hue='Sub-Category',palette='prism')\n",
    "plt.legend(loc='upper left', bbox_to_anchor=(1, 1))"
   ]
  },
  {
   "cell_type": "code",
   "execution_count": 34,
   "metadata": {},
   "outputs": [
    {
     "data": {
      "text/plain": [
       "<matplotlib.legend.Legend at 0x2b31d1afaf0>"
      ]
     },
     "execution_count": 34,
     "metadata": {},
     "output_type": "execute_result"
    },
    {
     "data": {
      "image/png": "[encoded data removed]",
      "text/plain": [
       "<Figure size 720x360 with 1 Axes>"
      ]
     },
     "metadata": {
      "needs_background": "light"
     },
     "output_type": "display_data"
    }
   ],
   "source": [
    "# Order year Frequency according to sub-category \n",
    "plt.figure(figsize=(10,5))\n",
    "sns.countplot(x='orderYear',data=df,hue='Sub-Category',palette='prism')\n",
    "plt.legend(loc='upper left', bbox_to_anchor=(1, 1))"
   ]
  },
  {
   "cell_type": "code",
   "execution_count": 35,
   "metadata": {},
   "outputs": [
    {
     "data": {
      "text/plain": [
       "<matplotlib.legend.Legend at 0x2b31d279fd0>"
      ]
     },
     "execution_count": 35,
     "metadata": {},
     "output_type": "execute_result"
    },
    {
     "data": {
      "image/png": "[encoded data removed]",
      "text/plain": [
       "<Figure size 432x288 with 1 Axes>"
      ]
     },
     "metadata": {
      "needs_background": "light"
     },
     "output_type": "display_data"
    }
   ],
   "source": [
    "# Order year Frequency according to region \n",
    "sns.countplot(x='orderYear',data=df,hue='Region')\n",
    "plt.legend(loc='upper left', bbox_to_anchor=(1, 1))"
   ]
  },
  {
   "cell_type": "code",
   "execution_count": 36,
   "metadata": {},
   "outputs": [
    {
     "data": {
      "text/plain": [
       "<matplotlib.legend.Legend at 0x2b31d23b250>"
      ]
     },
     "execution_count": 36,
     "metadata": {},
     "output_type": "execute_result"
    },
    {
     "data": {
      "image/png": "[encoded data removed]",
      "text/plain": [
       "<Figure size 432x288 with 1 Axes>"
      ]
     },
     "metadata": {
      "needs_background": "light"
     },
     "output_type": "display_data"
    }
   ],
   "source": [
    "# what day of the week were made the most order and from which region\n",
    "order=['Mon','Fri','Sun','Sat','Thu','Tue','Wed']\n",
    "sns.countplot(x='orderDayofweek',data=df,hue='Region',order=order)\n",
    "plt.legend(loc='upper left', bbox_to_anchor=(1, 1))"
   ]
  },
  {
   "cell_type": "code",
   "execution_count": 37,
   "metadata": {},
   "outputs": [
    {
     "data": {
      "text/plain": [
       "<matplotlib.legend.Legend at 0x2b31e51ca60>"
      ]
     },
     "execution_count": 37,
     "metadata": {},
     "output_type": "execute_result"
    },
    {
     "data": {
      "image/png": "[encoded data removed]",
      "text/plain": [
       "<Figure size 432x288 with 1 Axes>"
      ]
     },
     "metadata": {
      "needs_background": "light"
     },
     "output_type": "display_data"
    }
   ],
   "source": [
    "# Order day of week Frequency according to category\n",
    "order=['Mon','Fri','Sat','Sun','Thu','Tue','Wed']\n",
    "sns.countplot(x='orderDayofweek',data=df,hue='Category',order=order)\n",
    "plt.legend(loc='upper left', bbox_to_anchor=(1, 1))"
   ]
  },
  {
   "cell_type": "code",
   "execution_count": 38,
   "metadata": {},
   "outputs": [
    {
     "data": {
      "image/png": "[encoded data removed]",
      "text/plain": [
       "<Figure size 432x288 with 1 Axes>"
      ]
     },
     "metadata": {
      "needs_background": "light"
     },
     "output_type": "display_data"
    }
   ],
   "source": [
    "# Order year Frequency according to segment\n",
    "sns.countplot(x='orderYear',data=df,hue='Segment',palette='prism')\n",
    "plt.legend(loc='upper left', bbox_to_anchor=(1, 1));"
   ]
  },
  {
   "cell_type": "code",
   "execution_count": 39,
   "metadata": {},
   "outputs": [
    {
     "data": {
      "text/plain": [
       "<matplotlib.legend.Legend at 0x2b31e62a820>"
      ]
     },
     "execution_count": 39,
     "metadata": {},
     "output_type": "execute_result"
    },
    {
     "data": {
      "image/png": "[encoded data removed]",
      "text/plain": [
       "<Figure size 432x288 with 1 Axes>"
      ]
     },
     "metadata": {
      "needs_background": "light"
     },
     "output_type": "display_data"
    }
   ],
   "source": [
    "# Order day of week Frequency according to segment\n",
    "order=['Mon','Fri','Sat','Sun','Thu','Tue','Wed']\n",
    "sns.countplot(x='orderDayofweek',data=df,hue='Segment',order=order,palette='prism')\n",
    "plt.legend(loc='upper left', bbox_to_anchor=(1, 1))"
   ]
  },
  {
   "cell_type": "code",
   "execution_count": 40,
   "metadata": {},
   "outputs": [
    {
     "data": {
      "text/plain": [
       "<AxesSubplot:>"
      ]
     },
     "execution_count": 40,
     "metadata": {},
     "output_type": "execute_result"
    },
    {
     "data": {
      "image/png": "[encoded data removed]",
      "text/plain": [
       "<Figure size 432x288 with 1 Axes>"
      ]
     },
     "metadata": {
      "needs_background": "light"
     },
     "output_type": "display_data"
    }
   ],
   "source": [
    "df['Segment'].value_counts().plot.bar()"
   ]
  },
  {
   "cell_type": "code",
   "execution_count": 41,
   "metadata": {},
   "outputs": [
    {
     "data": {
      "text/plain": [
       "<matplotlib.legend.Legend at 0x2b31e714b20>"
      ]
     },
     "execution_count": 41,
     "metadata": {},
     "output_type": "execute_result"
    },
    {
     "data": {
      "image/png": "[encoded data removed]",
      "text/plain": [
       "<Figure size 432x288 with 1 Axes>"
      ]
     },
     "metadata": {
      "needs_background": "light"
     },
     "output_type": "display_data"
    }
   ],
   "source": [
    "# Order month Frequency according to category\n",
    "sns.countplot(x='orderMonth',data=df,hue='Segment',palette='prism')\n",
    "plt.legend(loc='upper left', bbox_to_anchor=(1, 1))"
   ]
  },
  {
   "cell_type": "code",
   "execution_count": 42,
   "metadata": {},
   "outputs": [
    {
     "data": {
      "text/plain": [
       "Staple envelope            48\n",
       "Easy-staple paper          46\n",
       "Staples                    46\n",
       "Avery Non-Stick Binders    20\n",
       "Staples in misc. colors    19\n",
       "Name: Product Name, dtype: int64"
      ]
     },
     "execution_count": 42,
     "metadata": {},
     "output_type": "execute_result"
    }
   ],
   "source": [
    "df['Product Name'].value_counts()[:5] # top 5 products "
   ]
  },
  {
   "cell_type": "code",
   "execution_count": 43,
   "metadata": {},
   "outputs": [
    {
     "data": {
      "text/plain": [
       "<matplotlib.legend.Legend at 0x2b31e80f100>"
      ]
     },
     "execution_count": 43,
     "metadata": {},
     "output_type": "execute_result"
    },
    {
     "data": {
      "image/png": "[encoded data removed]",
      "text/plain": [
       "<Figure size 1080x432 with 1 Axes>"
      ]
     },
     "metadata": {
      "needs_background": "light"
     },
     "output_type": "display_data"
    }
   ],
   "source": [
    "plt.figure(figsize=(15,6))\n",
    "sns.countplot(x='Product Name',data=df,hue='orderYear',\n",
    "             order=df['Product Name'].value_counts().iloc[:5].index)\n",
    "plt.legend(loc='upper left', bbox_to_anchor=(1, 1))"
   ]
  },
  {
   "cell_type": "code",
   "execution_count": 44,
   "metadata": {},
   "outputs": [
    {
     "data": {
      "text/plain": [
       "<matplotlib.legend.Legend at 0x2b31e89e370>"
      ]
     },
     "execution_count": 44,
     "metadata": {},
     "output_type": "execute_result"
    },
    {
     "data": {
      "image/png": "[encoded data removed]",
      "text/plain": [
       "<Figure size 720x360 with 1 Axes>"
      ]
     },
     "metadata": {
      "needs_background": "light"
     },
     "output_type": "display_data"
    }
   ],
   "source": [
    "\n",
    "plt.figure(figsize=(10,5))\n",
    "sns.countplot(x='orderYear',data=df,hue='shipDayofweek')\n",
    "plt.legend(loc='upper left', bbox_to_anchor=(1, 1))"
   ]
  },
  {
   "cell_type": "code",
   "execution_count": 45,
   "metadata": {},
   "outputs": [
    {
     "data": {
      "text/plain": [
       "11    1436\n",
       "12    1407\n",
       "9     1356\n",
       "10     831\n",
       "6      764\n",
       "Name: shipMonth, dtype: int64"
      ]
     },
     "execution_count": 45,
     "metadata": {},
     "output_type": "execute_result"
    }
   ],
   "source": [
    "df['shipMonth'].value_counts()[:5] # top 5 ship month made "
   ]
  },
  {
   "cell_type": "code",
   "execution_count": 46,
   "metadata": {},
   "outputs": [
    {
     "data": {
      "text/plain": [
       "12    469\n",
       "9     452\n",
       "11    448\n",
       "10    295\n",
       "5     243\n",
       "6     243\n",
       "8     226\n",
       "3     225\n",
       "7     222\n",
       "4     197\n",
       "1     174\n",
       "2     118\n",
       "Name: shipMonth, dtype: int64"
      ]
     },
     "execution_count": 46,
     "metadata": {},
     "output_type": "execute_result"
    }
   ],
   "source": [
    "df[df['orderYear']==2017]['shipMonth'].value_counts()"
   ]
  },
  {
   "cell_type": "code",
   "execution_count": 51,
   "metadata": {},
   "outputs": [
    {
     "data": {
      "image/png": "[encoded data removed]",
      "text/plain": [
       "<Figure size 1224x72 with 1 Axes>"
      ]
     },
     "metadata": {
      "needs_background": "light"
     },
     "output_type": "display_data"
    },
    {
     "data": {
      "image/png": "[encoded data removed]",
      "text/plain": [
       "<Figure size 1224x72 with 1 Axes>"
      ]
     },
     "metadata": {
      "needs_background": "light"
     },
     "output_type": "display_data"
    }
   ],
   "source": [
    "cmap = sns.blend_palette(['firebrick','purple','yellow','green','palegreen'],n_colors=17)\n",
    "sns.palplot(cmap)\n",
    "sns.set_palette(cmap,n_colors=17)\n",
    "sns.palplot(sns.color_palette(n_colors=17))"
   ]
  },
  {
   "cell_type": "code",
   "execution_count": 53,
   "metadata": {},
   "outputs": [
    {
     "data": {
      "text/plain": [
       "<matplotlib.legend.Legend at 0x2b31eeadfa0>"
      ]
     },
     "execution_count": 53,
     "metadata": {},
     "output_type": "execute_result"
    },
    {
     "data": {
      "image/png": "[encoded data removed]",
      "text/plain": [
       "<Figure size 720x360 with 1 Axes>"
      ]
     },
     "metadata": {
      "needs_background": "light"
     },
     "output_type": "display_data"
    }
   ],
   "source": [
    "plt.figure(figsize=(10,5))\n",
    "sns.countplot(x='orderYear',data=df,hue='shipMonth')\n",
    "sns.set_palette(cmap,n_colors=17)\n",
    "plt.legend(loc='upper left', bbox_to_anchor=(1, 1))"
   ]
  },
  {
   "cell_type": "code",
   "execution_count": 54,
   "metadata": {},
   "outputs": [
    {
     "data": {
      "text/plain": [
       "WB-21850    37\n",
       "PP-18955    34\n",
       "MA-17560    34\n",
       "JL-15835    34\n",
       "JD-15895    32\n",
       "Name: Customer ID, dtype: int64"
      ]
     },
     "execution_count": 54,
     "metadata": {},
     "output_type": "execute_result"
    }
   ],
   "source": [
    "df['Customer ID'].value_counts().head() # top 5 customers "
   ]
  },
  {
   "cell_type": "code",
   "execution_count": 55,
   "metadata": {},
   "outputs": [
    {
     "data": {
      "text/plain": [
       "Customer ID  Customer Name      \n",
       "WB-21850     William Brown          37\n",
       "MA-17560     Matt Abelman           34\n",
       "JL-15835     John Lee               34\n",
       "PP-18955     Paul Prost             34\n",
       "CK-12205     Chloris Kastensmidt    32\n",
       "dtype: int64"
      ]
     },
     "execution_count": 55,
     "metadata": {},
     "output_type": "execute_result"
    }
   ],
   "source": [
    "df[['Customer ID','Customer Name']].value_counts().head() # top 5 customers and their names "
   ]
  },
  {
   "cell_type": "code",
   "execution_count": 56,
   "metadata": {},
   "outputs": [
    {
     "data": {
      "text/plain": [
       "West       3203\n",
       "East       2848\n",
       "Central    2323\n",
       "South      1620\n",
       "Name: Region, dtype: int64"
      ]
     },
     "execution_count": 56,
     "metadata": {},
     "output_type": "execute_result"
    }
   ],
   "source": [
    "df['Region'].value_counts()"
   ]
  },
  {
   "cell_type": "code",
   "execution_count": 57,
   "metadata": {},
   "outputs": [
    {
     "data": {
      "text/plain": [
       "Office Supplies    6026\n",
       "Furniture          2121\n",
       "Technology         1847\n",
       "Name: Category, dtype: int64"
      ]
     },
     "execution_count": 57,
     "metadata": {},
     "output_type": "execute_result"
    }
   ],
   "source": [
    "df['Category'].value_counts()"
   ]
  },
  {
   "cell_type": "code",
   "execution_count": 58,
   "metadata": {},
   "outputs": [
    {
     "data": {
      "text/plain": [
       "Staple envelope            48\n",
       "Easy-staple paper          46\n",
       "Staples                    46\n",
       "Avery Non-Stick Binders    20\n",
       "Staples in misc. colors    19\n",
       "Name: Product Name, dtype: int64"
      ]
     },
     "execution_count": 58,
     "metadata": {},
     "output_type": "execute_result"
    }
   ],
   "source": [
    "df['Product Name'].value_counts().head() # top 5 products sold "
   ]
  },
  {
   "cell_type": "code",
   "execution_count": 59,
   "metadata": {},
   "outputs": [
    {
     "data": {
      "text/plain": [
       "3     2409\n",
       "2     2402\n",
       "5     1230\n",
       "4     1191\n",
       "1      899\n",
       "7      606\n",
       "6      572\n",
       "9      258\n",
       "8      257\n",
       "10      57\n",
       "11      34\n",
       "14      29\n",
       "13      27\n",
       "12      23\n",
       "Name: Quantity, dtype: int64"
      ]
     },
     "execution_count": 59,
     "metadata": {},
     "output_type": "execute_result"
    }
   ],
   "source": [
    "df['Quantity'].value_counts() "
   ]
  },
  {
   "cell_type": "code",
   "execution_count": 60,
   "metadata": {},
   "outputs": [
    {
     "data": {
      "text/plain": [
       "Quantity  Product Name     \n",
       "3         Easy-staple paper    16\n",
       "2         Staple envelope      15\n",
       "3         Staple envelope      12\n",
       "          Staples              11\n",
       "2         Easy-staple paper    10\n",
       "dtype: int64"
      ]
     },
     "execution_count": 60,
     "metadata": {},
     "output_type": "execute_result"
    }
   ],
   "source": [
    "df[['Quantity','Product Name']].value_counts().head()"
   ]
  },
  {
   "cell_type": "code",
   "execution_count": 61,
   "metadata": {},
   "outputs": [
    {
     "data": {
      "text/plain": [
       "<AxesSubplot:>"
      ]
     },
     "execution_count": 61,
     "metadata": {},
     "output_type": "execute_result"
    },
    {
     "data": {
      "image/png": "[encoded data removed]",
      "text/plain": [
       "<Figure size 432x288 with 1 Axes>"
      ]
     },
     "metadata": {
      "needs_background": "light"
     },
     "output_type": "display_data"
    }
   ],
   "source": [
    "df[df['Region']=='West']['Product Name'].value_counts().head().plot(kind='bar')"
   ]
  },
  {
   "cell_type": "code",
   "execution_count": 62,
   "metadata": {},
   "outputs": [
    {
     "data": {
      "text/plain": [
       "<matplotlib.legend.Legend at 0x2b31efbee80>"
      ]
     },
     "execution_count": 62,
     "metadata": {},
     "output_type": "execute_result"
    },
    {
     "data": {
      "image/png": "[encoded data removed]",
      "text/plain": [
       "<Figure size 576x504 with 1 Axes>"
      ]
     },
     "metadata": {
      "needs_background": "light"
     },
     "output_type": "display_data"
    }
   ],
   "source": [
    "plt.figure(figsize=(8,7))\n",
    "sns.countplot(x='Category',data=df,hue='Sub-Category')\n",
    "sns.set_palette(cmap,n_colors=17)\n",
    "plt.legend(loc='upper left', bbox_to_anchor=(1, 1))"
   ]
  },
  {
   "cell_type": "code",
   "execution_count": 63,
   "metadata": {},
   "outputs": [
    {
     "data": {
      "text/plain": [
       "'Furnishings'"
      ]
     },
     "execution_count": 63,
     "metadata": {},
     "output_type": "execute_result"
    }
   ],
   "source": [
    "df.groupby(['Category','Sub-Category']).count().xs('Furniture').idxmax()[0]"
   ]
  },
  {
   "cell_type": "code",
   "execution_count": 64,
   "metadata": {},
   "outputs": [
    {
     "data": {
      "text/plain": [
       "'Binders'"
      ]
     },
     "execution_count": 64,
     "metadata": {},
     "output_type": "execute_result"
    }
   ],
   "source": [
    "df.groupby(['Category','Sub-Category']).count().xs('Office Supplies').idxmax()[0]"
   ]
  },
  {
   "cell_type": "code",
   "execution_count": 65,
   "metadata": {},
   "outputs": [
    {
     "data": {
      "text/plain": [
       "'Phones'"
      ]
     },
     "execution_count": 65,
     "metadata": {},
     "output_type": "execute_result"
    }
   ],
   "source": [
    "df.groupby(['Category','Sub-Category']).count().xs('Technology').idxmax()[0]"
   ]
  },
  {
   "cell_type": "code",
   "execution_count": 66,
   "metadata": {},
   "outputs": [
    {
     "data": {
      "text/plain": [
       "<matplotlib.legend.Legend at 0x2b31f2d20a0>"
      ]
     },
     "execution_count": 66,
     "metadata": {},
     "output_type": "execute_result"
    },
    {
     "data": {
      "image/png": "[encoded data removed]",
      "text/plain": [
       "<Figure size 576x504 with 1 Axes>"
      ]
     },
     "metadata": {
      "needs_background": "light"
     },
     "output_type": "display_data"
    }
   ],
   "source": [
    "plt.figure(figsize=(8,7))\n",
    "sns.countplot(x='State',data=df,hue='Category',palette='prism',\n",
    "             order=df['State'].value_counts().iloc[:5].index)\n",
    "plt.legend(loc='upper left', bbox_to_anchor=(1, 1))"
   ]
  },
  {
   "cell_type": "code",
   "execution_count": 67,
   "metadata": {},
   "outputs": [
    {
     "data": {
      "text/plain": [
       "1850"
      ]
     },
     "execution_count": 67,
     "metadata": {},
     "output_type": "execute_result"
    }
   ],
   "source": [
    "df['Product Name'].nunique() # number of unique product names "
   ]
  },
  {
   "cell_type": "code",
   "execution_count": 68,
   "metadata": {},
   "outputs": [
    {
     "data": {
      "text/plain": [
       "<AxesSubplot:>"
      ]
     },
     "execution_count": 68,
     "metadata": {},
     "output_type": "execute_result"
    },
    {
     "data": {
      "image/png": "[encoded data removed]",
      "text/plain": [
       "<Figure size 720x576 with 1 Axes>"
      ]
     },
     "metadata": {
      "needs_background": "light"
     },
     "output_type": "display_data"
    }
   ],
   "source": [
    "plt.figure(figsize=(10,8))\n",
    "df['Product Name'].value_counts().head(20).plot(kind='bar') # top 20 sold products "
   ]
  },
  {
   "cell_type": "code",
   "execution_count": 69,
   "metadata": {},
   "outputs": [
    {
     "data": {
      "text/plain": [
       "Product Name             Category         Sub-Category\n",
       "Staple envelope          Office Supplies  Envelopes       48\n",
       "Easy-staple paper        Office Supplies  Paper           46\n",
       "Staples                  Office Supplies  Fasteners       46\n",
       "Avery Non-Stick Binders  Office Supplies  Binders         20\n",
       "Staples in misc. colors  Office Supplies  Art             19\n",
       "dtype: int64"
      ]
     },
     "execution_count": 69,
     "metadata": {},
     "output_type": "execute_result"
    }
   ],
   "source": [
    "df[['Product Name','Category','Sub-Category']].value_counts().head()"
   ]
  },
  {
   "cell_type": "code",
   "execution_count": 70,
   "metadata": {},
   "outputs": [
    {
     "data": {
      "text/plain": [
       "Product Name       Category         Sub-Category  Region \n",
       "Staple envelope    Office Supplies  Envelopes     East       17\n",
       "Easy-staple paper  Office Supplies  Paper         East       15\n",
       "Staples            Office Supplies  Fasteners     Central    13\n",
       "Easy-staple paper  Office Supplies  Paper         Central    13\n",
       "Staple envelope    Office Supplies  Envelopes     Central    13\n",
       "dtype: int64"
      ]
     },
     "execution_count": 70,
     "metadata": {},
     "output_type": "execute_result"
    }
   ],
   "source": [
    "df[['Product Name','Category','Sub-Category','Region']].value_counts().head()"
   ]
  },
  {
   "cell_type": "code",
   "execution_count": 71,
   "metadata": {},
   "outputs": [
    {
     "data": {
      "text/plain": [
       "City           Category         Sub-Category  Product Name                                                                  \n",
       "New York City  Office Supplies  Paper         Easy-staple paper                                                                 7\n",
       "                                Envelopes     Staple envelope                                                                   7\n",
       "                                Binders       Acco Pressboard Covers with Storage Hooks, 9 1/2\" x 11\", Executive Red            4\n",
       "                                              GBC Premium Transparent Covers with Diagonal Lined Pattern                        4\n",
       "Los Angeles    Office Supplies  Binders       Avery Non-Stick Binders                                                           4\n",
       "                                Paper         Easy-staple paper                                                                 4\n",
       "Houston        Office Supplies  Fasteners     Staples                                                                           4\n",
       "Los Angeles    Technology       Phones        Motorola HK250 Universal Bluetooth Headset                                        4\n",
       "New York City  Furniture        Furnishings   DAX Value U-Channel Document Frames, Easel Back                                   3\n",
       "Los Angeles    Furniture        Tables        Lesro Sheffield Collection Coffee Table, End Table, Center Table, Corner Table    3\n",
       "dtype: int64"
      ]
     },
     "execution_count": 71,
     "metadata": {},
     "output_type": "execute_result"
    }
   ],
   "source": [
    "df[['City','Category','Sub-Category','Product Name']].value_counts().head(10)"
   ]
  },
  {
   "cell_type": "code",
   "execution_count": 72,
   "metadata": {},
   "outputs": [
    {
     "data": {
      "text/plain": [
       "State       City           Category         Product Name                                                                              \n",
       "New York    New York City  Office Supplies  Easy-staple paper                                                                             7\n",
       "                                            Staple envelope                                                                               7\n",
       "                                            Acco Pressboard Covers with Storage Hooks, 9 1/2\" x 11\", Executive Red                        4\n",
       "California  Los Angeles    Office Supplies  Avery Non-Stick Binders                                                                       4\n",
       "                                            Easy-staple paper                                                                             4\n",
       "                                                                                                                                         ..\n",
       "Ohio        Columbus       Furniture        Advantus Panel Wall Acrylic Frame                                                             1\n",
       "                                            Bush Andora Conference Table, Maple/Graphite Gray Finish                                      1\n",
       "                                            Bush Westfield Collection Bookcases, Medium Cherry Finish                                     1\n",
       "                                            Computer Room Manger, 14\"                                                                     1\n",
       "Alabama     Auburn         Furniture        Office Star - Professional Matrix Back Chair with 2-to-1 Synchro Tilt and Mesh Fabric Seat    1\n",
       "Length: 9315, dtype: int64"
      ]
     },
     "execution_count": 72,
     "metadata": {},
     "output_type": "execute_result"
    }
   ],
   "source": [
    "df[['State','City','Category','Product Name']].value_counts()"
   ]
  },
  {
   "cell_type": "code",
   "execution_count": 73,
   "metadata": {},
   "outputs": [],
   "source": [
    "df2 = df.sort_values('Profit',ascending=False)"
   ]
  },
  {
   "cell_type": "code",
   "execution_count": 74,
   "metadata": {},
   "outputs": [
    {
     "data": {
      "text/html": [
       "<div>\n",
       "<style scoped>\n",
       "    .dataframe tbody tr th:only-of-type {\n",
       "        vertical-align: middle;\n",
       "    }\n",
       "\n",
       "    .dataframe tbody tr th {\n",
       "        vertical-align: top;\n",
       "    }\n",
       "\n",
       "    .dataframe thead th {\n",
       "        text-align: right;\n",
       "    }\n",
       "</style>\n",
       "<table border=\"1\" class=\"dataframe\">\n",
       "  <thead>\n",
       "    <tr style=\"text-align: right;\">\n",
       "      <th></th>\n",
       "      <th>Row ID</th>\n",
       "      <th>Order ID</th>\n",
       "      <th>Ship Mode</th>\n",
       "      <th>Customer ID</th>\n",
       "      <th>Customer Name</th>\n",
       "      <th>Segment</th>\n",
       "      <th>Country</th>\n",
       "      <th>City</th>\n",
       "      <th>State</th>\n",
       "      <th>Postal Code</th>\n",
       "      <th>...</th>\n",
       "      <th>Sales</th>\n",
       "      <th>Quantity</th>\n",
       "      <th>Discount</th>\n",
       "      <th>Profit</th>\n",
       "      <th>orderDayofweek</th>\n",
       "      <th>orderMonth</th>\n",
       "      <th>orderYear</th>\n",
       "      <th>shipDayofweek</th>\n",
       "      <th>shipMonth</th>\n",
       "      <th>shipYear</th>\n",
       "    </tr>\n",
       "  </thead>\n",
       "  <tbody>\n",
       "    <tr>\n",
       "      <th>6826</th>\n",
       "      <td>6827</td>\n",
       "      <td>CA-2016-118689</td>\n",
       "      <td>Standard Class</td>\n",
       "      <td>TC-20980</td>\n",
       "      <td>Tamara Chand</td>\n",
       "      <td>Corporate</td>\n",
       "      <td>United States</td>\n",
       "      <td>Lafayette</td>\n",
       "      <td>Indiana</td>\n",
       "      <td>47905</td>\n",
       "      <td>...</td>\n",
       "      <td>17499.95</td>\n",
       "      <td>5</td>\n",
       "      <td>0.0</td>\n",
       "      <td>8399.9760</td>\n",
       "      <td>Sun</td>\n",
       "      <td>10</td>\n",
       "      <td>2016</td>\n",
       "      <td>Sun</td>\n",
       "      <td>10</td>\n",
       "      <td>2016</td>\n",
       "    </tr>\n",
       "    <tr>\n",
       "      <th>8153</th>\n",
       "      <td>8154</td>\n",
       "      <td>CA-2017-140151</td>\n",
       "      <td>First Class</td>\n",
       "      <td>RB-19360</td>\n",
       "      <td>Raymond Buch</td>\n",
       "      <td>Consumer</td>\n",
       "      <td>United States</td>\n",
       "      <td>Seattle</td>\n",
       "      <td>Washington</td>\n",
       "      <td>98115</td>\n",
       "      <td>...</td>\n",
       "      <td>13999.96</td>\n",
       "      <td>4</td>\n",
       "      <td>0.0</td>\n",
       "      <td>6719.9808</td>\n",
       "      <td>Thu</td>\n",
       "      <td>3</td>\n",
       "      <td>2017</td>\n",
       "      <td>Sat</td>\n",
       "      <td>3</td>\n",
       "      <td>2017</td>\n",
       "    </tr>\n",
       "    <tr>\n",
       "      <th>4190</th>\n",
       "      <td>4191</td>\n",
       "      <td>CA-2017-166709</td>\n",
       "      <td>Standard Class</td>\n",
       "      <td>HL-15040</td>\n",
       "      <td>Hunter Lopez</td>\n",
       "      <td>Consumer</td>\n",
       "      <td>United States</td>\n",
       "      <td>Newark</td>\n",
       "      <td>Delaware</td>\n",
       "      <td>19711</td>\n",
       "      <td>...</td>\n",
       "      <td>10499.97</td>\n",
       "      <td>3</td>\n",
       "      <td>0.0</td>\n",
       "      <td>5039.9856</td>\n",
       "      <td>Fri</td>\n",
       "      <td>11</td>\n",
       "      <td>2017</td>\n",
       "      <td>Wed</td>\n",
       "      <td>11</td>\n",
       "      <td>2017</td>\n",
       "    </tr>\n",
       "    <tr>\n",
       "      <th>9039</th>\n",
       "      <td>9040</td>\n",
       "      <td>CA-2016-117121</td>\n",
       "      <td>Standard Class</td>\n",
       "      <td>AB-10105</td>\n",
       "      <td>Adrian Barton</td>\n",
       "      <td>Consumer</td>\n",
       "      <td>United States</td>\n",
       "      <td>Detroit</td>\n",
       "      <td>Michigan</td>\n",
       "      <td>48205</td>\n",
       "      <td>...</td>\n",
       "      <td>9892.74</td>\n",
       "      <td>13</td>\n",
       "      <td>0.0</td>\n",
       "      <td>4946.3700</td>\n",
       "      <td>Sat</td>\n",
       "      <td>12</td>\n",
       "      <td>2016</td>\n",
       "      <td>Wed</td>\n",
       "      <td>12</td>\n",
       "      <td>2016</td>\n",
       "    </tr>\n",
       "    <tr>\n",
       "      <th>4098</th>\n",
       "      <td>4099</td>\n",
       "      <td>CA-2014-116904</td>\n",
       "      <td>Standard Class</td>\n",
       "      <td>SC-20095</td>\n",
       "      <td>Sanjit Chand</td>\n",
       "      <td>Consumer</td>\n",
       "      <td>United States</td>\n",
       "      <td>Minneapolis</td>\n",
       "      <td>Minnesota</td>\n",
       "      <td>55407</td>\n",
       "      <td>...</td>\n",
       "      <td>9449.95</td>\n",
       "      <td>5</td>\n",
       "      <td>0.0</td>\n",
       "      <td>4630.4755</td>\n",
       "      <td>Tue</td>\n",
       "      <td>9</td>\n",
       "      <td>2014</td>\n",
       "      <td>Sun</td>\n",
       "      <td>9</td>\n",
       "      <td>2014</td>\n",
       "    </tr>\n",
       "  </tbody>\n",
       "</table>\n",
       "<p>5 rows × 25 columns</p>\n",
       "</div>"
      ],
      "text/plain": [
       "      Row ID        Order ID       Ship Mode Customer ID  Customer Name  \\\n",
       "6826    6827  CA-2016-118689  Standard Class    TC-20980   Tamara Chand   \n",
       "8153    8154  CA-2017-140151     First Class    RB-19360   Raymond Buch   \n",
       "4190    4191  CA-2017-166709  Standard Class    HL-15040   Hunter Lopez   \n",
       "9039    9040  CA-2016-117121  Standard Class    AB-10105  Adrian Barton   \n",
       "4098    4099  CA-2014-116904  Standard Class    SC-20095   Sanjit Chand   \n",
       "\n",
       "        Segment        Country         City       State  Postal Code  ...  \\\n",
       "6826  Corporate  United States    Lafayette     Indiana        47905  ...   \n",
       "8153   Consumer  United States      Seattle  Washington        98115  ...   \n",
       "4190   Consumer  United States       Newark    Delaware        19711  ...   \n",
       "9039   Consumer  United States      Detroit    Michigan        48205  ...   \n",
       "4098   Consumer  United States  Minneapolis   Minnesota        55407  ...   \n",
       "\n",
       "         Sales Quantity Discount     Profit orderDayofweek  orderMonth  \\\n",
       "6826  17499.95        5      0.0  8399.9760            Sun          10   \n",
       "8153  13999.96        4      0.0  6719.9808            Thu           3   \n",
       "4190  10499.97        3      0.0  5039.9856            Fri          11   \n",
       "9039   9892.74       13      0.0  4946.3700            Sat          12   \n",
       "4098   9449.95        5      0.0  4630.4755            Tue           9   \n",
       "\n",
       "      orderYear  shipDayofweek  shipMonth shipYear  \n",
       "6826       2016            Sun         10     2016  \n",
       "8153       2017            Sat          3     2017  \n",
       "4190       2017            Wed         11     2017  \n",
       "9039       2016            Wed         12     2016  \n",
       "4098       2014            Sun          9     2014  \n",
       "\n",
       "[5 rows x 25 columns]"
      ]
     },
     "execution_count": 74,
     "metadata": {},
     "output_type": "execute_result"
    }
   ],
   "source": [
    "df2.head()"
   ]
  },
  {
   "cell_type": "code",
   "execution_count": 75,
   "metadata": {},
   "outputs": [
    {
     "data": {
      "text/plain": [
       "City            Category         Product Name                                                           Profit   \n",
       "New York City   Office Supplies  Easy-staple paper                                                       7.0218      3\n",
       "Los Angeles     Office Supplies  Avery Non-Stick Binders                                                 2.2450      3\n",
       "New York City   Office Supplies  Fiskars Softgrip Scissors                                               15.3720     3\n",
       "                                 Safco Industrial Wire Shelving System                                   0.0000      3\n",
       "Philadelphia    Office Supplies  Avery 483                                                               5.1792      2\n",
       "                                                                                                                    ..\n",
       "Pembroke Pines  Office Supplies  14-7/8 x 11 Blue Bar Computer Printout Paper                            40.3536     1\n",
       "                Furniture        Hon Practical Foundations 30 x 60 Training Table, Light Gray/Charcoal  -157.0095    1\n",
       "                                 Bush Mission Pointe Library                                             0.0000      1\n",
       "Pearland        Technology       LG G3                                                                   52.9173     1\n",
       "Aberdeen        Office Supplies  Acme Titanium Bonded Scissors                                           6.6300      1\n",
       "Length: 9853, dtype: int64"
      ]
     },
     "execution_count": 75,
     "metadata": {},
     "output_type": "execute_result"
    }
   ],
   "source": [
    "df2[['City','Category','Product Name','Profit']].value_counts()"
   ]
  },
  {
   "cell_type": "code",
   "execution_count": 76,
   "metadata": {},
   "outputs": [
    {
     "data": {
      "text/plain": [
       "Product Name                                                                                  Sales   \n",
       "Eldon Expressions Wood Desk Accessories, Oak                                                  14.760      6\n",
       "Adams Telephone Message Book W/Dividers/Space For Phone Numbers, 5 1/4\"X8 1/2\", 300/Messages  11.760      5\n",
       "Storex Dura Pro Binders                                                                       3.564       5\n",
       "Avery 51                                                                                      18.900      4\n",
       "X-Rack File for Hanging Folders                                                               22.580      4\n",
       "                                                                                                         ..\n",
       "Nortel Meridian M5316 Digital phone                                                           1294.750    1\n",
       "Nortel Networks T7316 E Nt8 B27                                                               108.784     1\n",
       "                                                                                              135.980     1\n",
       "Novimex Fabric Task Chair                                                                     146.352     1\n",
       "\"While you Were Out\" Message Book, One Form per Page                                          7.420       1\n",
       "Length: 8202, dtype: int64"
      ]
     },
     "execution_count": 76,
     "metadata": {},
     "output_type": "execute_result"
    }
   ],
   "source": [
    "df[['Product Name','Sales']].value_counts()"
   ]
  },
  {
   "cell_type": "code",
   "execution_count": 77,
   "metadata": {},
   "outputs": [
    {
     "data": {
      "text/plain": [
       "(9994, 25)"
      ]
     },
     "execution_count": 77,
     "metadata": {},
     "output_type": "execute_result"
    }
   ],
   "source": [
    "df.shape"
   ]
  },
  {
   "cell_type": "code",
   "execution_count": 78,
   "metadata": {},
   "outputs": [
    {
     "data": {
      "text/html": [
       "<div>\n",
       "<style scoped>\n",
       "    .dataframe tbody tr th:only-of-type {\n",
       "        vertical-align: middle;\n",
       "    }\n",
       "\n",
       "    .dataframe tbody tr th {\n",
       "        vertical-align: top;\n",
       "    }\n",
       "\n",
       "    .dataframe thead th {\n",
       "        text-align: right;\n",
       "    }\n",
       "</style>\n",
       "<table border=\"1\" class=\"dataframe\">\n",
       "  <thead>\n",
       "    <tr style=\"text-align: right;\">\n",
       "      <th></th>\n",
       "      <th>Row ID</th>\n",
       "      <th>Order ID</th>\n",
       "      <th>Ship Mode</th>\n",
       "      <th>Customer ID</th>\n",
       "      <th>Customer Name</th>\n",
       "      <th>Segment</th>\n",
       "      <th>Country</th>\n",
       "      <th>City</th>\n",
       "      <th>State</th>\n",
       "      <th>Postal Code</th>\n",
       "      <th>...</th>\n",
       "      <th>Sales</th>\n",
       "      <th>Quantity</th>\n",
       "      <th>Discount</th>\n",
       "      <th>Profit</th>\n",
       "      <th>orderDayofweek</th>\n",
       "      <th>orderMonth</th>\n",
       "      <th>orderYear</th>\n",
       "      <th>shipDayofweek</th>\n",
       "      <th>shipMonth</th>\n",
       "      <th>shipYear</th>\n",
       "    </tr>\n",
       "  </thead>\n",
       "  <tbody>\n",
       "    <tr>\n",
       "      <th>0</th>\n",
       "      <td>1</td>\n",
       "      <td>CA-2016-152156</td>\n",
       "      <td>Second Class</td>\n",
       "      <td>CG-12520</td>\n",
       "      <td>Claire Gute</td>\n",
       "      <td>Consumer</td>\n",
       "      <td>United States</td>\n",
       "      <td>Henderson</td>\n",
       "      <td>Kentucky</td>\n",
       "      <td>42420</td>\n",
       "      <td>...</td>\n",
       "      <td>261.9600</td>\n",
       "      <td>2</td>\n",
       "      <td>0.00</td>\n",
       "      <td>41.9136</td>\n",
       "      <td>Tue</td>\n",
       "      <td>11</td>\n",
       "      <td>2016</td>\n",
       "      <td>Fri</td>\n",
       "      <td>11</td>\n",
       "      <td>2016</td>\n",
       "    </tr>\n",
       "    <tr>\n",
       "      <th>1</th>\n",
       "      <td>2</td>\n",
       "      <td>CA-2016-152156</td>\n",
       "      <td>Second Class</td>\n",
       "      <td>CG-12520</td>\n",
       "      <td>Claire Gute</td>\n",
       "      <td>Consumer</td>\n",
       "      <td>United States</td>\n",
       "      <td>Henderson</td>\n",
       "      <td>Kentucky</td>\n",
       "      <td>42420</td>\n",
       "      <td>...</td>\n",
       "      <td>731.9400</td>\n",
       "      <td>3</td>\n",
       "      <td>0.00</td>\n",
       "      <td>219.5820</td>\n",
       "      <td>Tue</td>\n",
       "      <td>11</td>\n",
       "      <td>2016</td>\n",
       "      <td>Fri</td>\n",
       "      <td>11</td>\n",
       "      <td>2016</td>\n",
       "    </tr>\n",
       "    <tr>\n",
       "      <th>2</th>\n",
       "      <td>3</td>\n",
       "      <td>CA-2016-138688</td>\n",
       "      <td>Second Class</td>\n",
       "      <td>DV-13045</td>\n",
       "      <td>Darrin Van Huff</td>\n",
       "      <td>Corporate</td>\n",
       "      <td>United States</td>\n",
       "      <td>Los Angeles</td>\n",
       "      <td>California</td>\n",
       "      <td>90036</td>\n",
       "      <td>...</td>\n",
       "      <td>14.6200</td>\n",
       "      <td>2</td>\n",
       "      <td>0.00</td>\n",
       "      <td>6.8714</td>\n",
       "      <td>Sun</td>\n",
       "      <td>6</td>\n",
       "      <td>2016</td>\n",
       "      <td>Thu</td>\n",
       "      <td>6</td>\n",
       "      <td>2016</td>\n",
       "    </tr>\n",
       "    <tr>\n",
       "      <th>3</th>\n",
       "      <td>4</td>\n",
       "      <td>US-2015-108966</td>\n",
       "      <td>Standard Class</td>\n",
       "      <td>SO-20335</td>\n",
       "      <td>Sean O'Donnell</td>\n",
       "      <td>Consumer</td>\n",
       "      <td>United States</td>\n",
       "      <td>Fort Lauderdale</td>\n",
       "      <td>Florida</td>\n",
       "      <td>33311</td>\n",
       "      <td>...</td>\n",
       "      <td>957.5775</td>\n",
       "      <td>5</td>\n",
       "      <td>0.45</td>\n",
       "      <td>-383.0310</td>\n",
       "      <td>Sun</td>\n",
       "      <td>10</td>\n",
       "      <td>2015</td>\n",
       "      <td>Sun</td>\n",
       "      <td>10</td>\n",
       "      <td>2015</td>\n",
       "    </tr>\n",
       "    <tr>\n",
       "      <th>4</th>\n",
       "      <td>5</td>\n",
       "      <td>US-2015-108966</td>\n",
       "      <td>Standard Class</td>\n",
       "      <td>SO-20335</td>\n",
       "      <td>Sean O'Donnell</td>\n",
       "      <td>Consumer</td>\n",
       "      <td>United States</td>\n",
       "      <td>Fort Lauderdale</td>\n",
       "      <td>Florida</td>\n",
       "      <td>33311</td>\n",
       "      <td>...</td>\n",
       "      <td>22.3680</td>\n",
       "      <td>2</td>\n",
       "      <td>0.20</td>\n",
       "      <td>2.5164</td>\n",
       "      <td>Sun</td>\n",
       "      <td>10</td>\n",
       "      <td>2015</td>\n",
       "      <td>Sun</td>\n",
       "      <td>10</td>\n",
       "      <td>2015</td>\n",
       "    </tr>\n",
       "  </tbody>\n",
       "</table>\n",
       "<p>5 rows × 25 columns</p>\n",
       "</div>"
      ],
      "text/plain": [
       "   Row ID        Order ID       Ship Mode Customer ID    Customer Name  \\\n",
       "0       1  CA-2016-152156    Second Class    CG-12520      Claire Gute   \n",
       "1       2  CA-2016-152156    Second Class    CG-12520      Claire Gute   \n",
       "2       3  CA-2016-138688    Second Class    DV-13045  Darrin Van Huff   \n",
       "3       4  US-2015-108966  Standard Class    SO-20335   Sean O'Donnell   \n",
       "4       5  US-2015-108966  Standard Class    SO-20335   Sean O'Donnell   \n",
       "\n",
       "     Segment        Country             City       State  Postal Code  ...  \\\n",
       "0   Consumer  United States        Henderson    Kentucky        42420  ...   \n",
       "1   Consumer  United States        Henderson    Kentucky        42420  ...   \n",
       "2  Corporate  United States      Los Angeles  California        90036  ...   \n",
       "3   Consumer  United States  Fort Lauderdale     Florida        33311  ...   \n",
       "4   Consumer  United States  Fort Lauderdale     Florida        33311  ...   \n",
       "\n",
       "      Sales Quantity Discount    Profit orderDayofweek  orderMonth  orderYear  \\\n",
       "0  261.9600        2     0.00   41.9136            Tue          11       2016   \n",
       "1  731.9400        3     0.00  219.5820            Tue          11       2016   \n",
       "2   14.6200        2     0.00    6.8714            Sun           6       2016   \n",
       "3  957.5775        5     0.45 -383.0310            Sun          10       2015   \n",
       "4   22.3680        2     0.20    2.5164            Sun          10       2015   \n",
       "\n",
       "   shipDayofweek  shipMonth shipYear  \n",
       "0            Fri         11     2016  \n",
       "1            Fri         11     2016  \n",
       "2            Thu          6     2016  \n",
       "3            Sun         10     2015  \n",
       "4            Sun         10     2015  \n",
       "\n",
       "[5 rows x 25 columns]"
      ]
     },
     "execution_count": 78,
     "metadata": {},
     "output_type": "execute_result"
    }
   ],
   "source": [
    "df.head()"
   ]
  },
  {
   "cell_type": "code",
   "execution_count": 94,
   "metadata": {},
   "outputs": [],
   "source": [
    "df['Sale per unit'] = round(df['Sales']/df['Quantity'],4)"
   ]
  },
  {
   "cell_type": "code",
   "execution_count": 95,
   "metadata": {},
   "outputs": [
    {
     "data": {
      "text/plain": [
       "0       130.9800\n",
       "1       243.9800\n",
       "2         7.3100\n",
       "3       191.5155\n",
       "4        11.1840\n",
       "          ...   \n",
       "9989      8.4160\n",
       "9990     45.9800\n",
       "9991    129.2880\n",
       "9992      7.4000\n",
       "9993    121.5800\n",
       "Name: Sale per unit, Length: 9994, dtype: float64"
      ]
     },
     "execution_count": 95,
     "metadata": {},
     "output_type": "execute_result"
    }
   ],
   "source": [
    "df['Sale per unit']"
   ]
  },
  {
   "cell_type": "code",
   "execution_count": 96,
   "metadata": {},
   "outputs": [
    {
     "data": {
      "text/plain": [
       "3773.08"
      ]
     },
     "execution_count": 96,
     "metadata": {},
     "output_type": "execute_result"
    }
   ],
   "source": [
    "df['Sale per unit'].max()"
   ]
  },
  {
   "cell_type": "code",
   "execution_count": 97,
   "metadata": {},
   "outputs": [
    {
     "data": {
      "text/html": [
       "<div>\n",
       "<style scoped>\n",
       "    .dataframe tbody tr th:only-of-type {\n",
       "        vertical-align: middle;\n",
       "    }\n",
       "\n",
       "    .dataframe tbody tr th {\n",
       "        vertical-align: top;\n",
       "    }\n",
       "\n",
       "    .dataframe thead th {\n",
       "        text-align: right;\n",
       "    }\n",
       "</style>\n",
       "<table border=\"1\" class=\"dataframe\">\n",
       "  <thead>\n",
       "    <tr style=\"text-align: right;\">\n",
       "      <th></th>\n",
       "      <th>Row ID</th>\n",
       "      <th>Order ID</th>\n",
       "      <th>Ship Mode</th>\n",
       "      <th>Customer ID</th>\n",
       "      <th>Customer Name</th>\n",
       "      <th>Segment</th>\n",
       "      <th>Country</th>\n",
       "      <th>City</th>\n",
       "      <th>State</th>\n",
       "      <th>Postal Code</th>\n",
       "      <th>...</th>\n",
       "      <th>Quantity</th>\n",
       "      <th>Discount</th>\n",
       "      <th>Profit</th>\n",
       "      <th>orderDayofweek</th>\n",
       "      <th>orderMonth</th>\n",
       "      <th>orderYear</th>\n",
       "      <th>shipDayofweek</th>\n",
       "      <th>shipMonth</th>\n",
       "      <th>shipYear</th>\n",
       "      <th>Sale per unit</th>\n",
       "    </tr>\n",
       "  </thead>\n",
       "  <tbody>\n",
       "    <tr>\n",
       "      <th>2697</th>\n",
       "      <td>2698</td>\n",
       "      <td>CA-2014-145317</td>\n",
       "      <td>Standard Class</td>\n",
       "      <td>SM-20320</td>\n",
       "      <td>Sean Miller</td>\n",
       "      <td>Home Office</td>\n",
       "      <td>United States</td>\n",
       "      <td>Jacksonville</td>\n",
       "      <td>Florida</td>\n",
       "      <td>32216</td>\n",
       "      <td>...</td>\n",
       "      <td>6</td>\n",
       "      <td>0.5</td>\n",
       "      <td>-1811.0784</td>\n",
       "      <td>Tue</td>\n",
       "      <td>3</td>\n",
       "      <td>2014</td>\n",
       "      <td>Sun</td>\n",
       "      <td>3</td>\n",
       "      <td>2014</td>\n",
       "      <td>3773.08</td>\n",
       "    </tr>\n",
       "  </tbody>\n",
       "</table>\n",
       "<p>1 rows × 26 columns</p>\n",
       "</div>"
      ],
      "text/plain": [
       "      Row ID        Order ID       Ship Mode Customer ID Customer Name  \\\n",
       "2697    2698  CA-2014-145317  Standard Class    SM-20320   Sean Miller   \n",
       "\n",
       "          Segment        Country          City    State  Postal Code  ...  \\\n",
       "2697  Home Office  United States  Jacksonville  Florida        32216  ...   \n",
       "\n",
       "     Quantity Discount     Profit orderDayofweek orderMonth  orderYear  \\\n",
       "2697        6      0.5 -1811.0784            Tue          3       2014   \n",
       "\n",
       "      shipDayofweek  shipMonth  shipYear Sale per unit  \n",
       "2697            Sun          3      2014       3773.08  \n",
       "\n",
       "[1 rows x 26 columns]"
      ]
     },
     "execution_count": 97,
     "metadata": {},
     "output_type": "execute_result"
    }
   ],
   "source": [
    "df[df['Sale per unit']==3773.08]"
   ]
  },
  {
   "cell_type": "code",
   "execution_count": 98,
   "metadata": {},
   "outputs": [
    {
     "data": {
      "text/plain": [
       "0.336"
      ]
     },
     "execution_count": 98,
     "metadata": {},
     "output_type": "execute_result"
    }
   ],
   "source": [
    "df['Sale per unit'].min()"
   ]
  },
  {
   "cell_type": "code",
   "execution_count": 99,
   "metadata": {},
   "outputs": [
    {
     "data": {
      "text/html": [
       "<div>\n",
       "<style scoped>\n",
       "    .dataframe tbody tr th:only-of-type {\n",
       "        vertical-align: middle;\n",
       "    }\n",
       "\n",
       "    .dataframe tbody tr th {\n",
       "        vertical-align: top;\n",
       "    }\n",
       "\n",
       "    .dataframe thead th {\n",
       "        text-align: right;\n",
       "    }\n",
       "</style>\n",
       "<table border=\"1\" class=\"dataframe\">\n",
       "  <thead>\n",
       "    <tr style=\"text-align: right;\">\n",
       "      <th></th>\n",
       "      <th>Row ID</th>\n",
       "      <th>Order ID</th>\n",
       "      <th>Ship Mode</th>\n",
       "      <th>Customer ID</th>\n",
       "      <th>Customer Name</th>\n",
       "      <th>Segment</th>\n",
       "      <th>Country</th>\n",
       "      <th>City</th>\n",
       "      <th>State</th>\n",
       "      <th>Postal Code</th>\n",
       "      <th>...</th>\n",
       "      <th>Quantity</th>\n",
       "      <th>Discount</th>\n",
       "      <th>Profit</th>\n",
       "      <th>orderDayofweek</th>\n",
       "      <th>orderMonth</th>\n",
       "      <th>orderYear</th>\n",
       "      <th>shipDayofweek</th>\n",
       "      <th>shipMonth</th>\n",
       "      <th>shipYear</th>\n",
       "      <th>Sale per unit</th>\n",
       "    </tr>\n",
       "  </thead>\n",
       "  <tbody>\n",
       "    <tr>\n",
       "      <th>2427</th>\n",
       "      <td>2428</td>\n",
       "      <td>CA-2016-169922</td>\n",
       "      <td>Standard Class</td>\n",
       "      <td>MZ-17515</td>\n",
       "      <td>Mary Zewe</td>\n",
       "      <td>Corporate</td>\n",
       "      <td>United States</td>\n",
       "      <td>Arlington</td>\n",
       "      <td>Texas</td>\n",
       "      <td>76017</td>\n",
       "      <td>...</td>\n",
       "      <td>4</td>\n",
       "      <td>0.8</td>\n",
       "      <td>-2.1504</td>\n",
       "      <td>Sat</td>\n",
       "      <td>6</td>\n",
       "      <td>2016</td>\n",
       "      <td>Fri</td>\n",
       "      <td>6</td>\n",
       "      <td>2016</td>\n",
       "      <td>0.336</td>\n",
       "    </tr>\n",
       "    <tr>\n",
       "      <th>6818</th>\n",
       "      <td>6819</td>\n",
       "      <td>CA-2017-163860</td>\n",
       "      <td>Standard Class</td>\n",
       "      <td>LO-17170</td>\n",
       "      <td>Lori Olson</td>\n",
       "      <td>Corporate</td>\n",
       "      <td>United States</td>\n",
       "      <td>Peoria</td>\n",
       "      <td>Illinois</td>\n",
       "      <td>61604</td>\n",
       "      <td>...</td>\n",
       "      <td>5</td>\n",
       "      <td>0.8</td>\n",
       "      <td>-2.6880</td>\n",
       "      <td>Thu</td>\n",
       "      <td>12</td>\n",
       "      <td>2017</td>\n",
       "      <td>Mon</td>\n",
       "      <td>1</td>\n",
       "      <td>2018</td>\n",
       "      <td>0.336</td>\n",
       "    </tr>\n",
       "  </tbody>\n",
       "</table>\n",
       "<p>2 rows × 26 columns</p>\n",
       "</div>"
      ],
      "text/plain": [
       "      Row ID        Order ID       Ship Mode Customer ID Customer Name  \\\n",
       "2427    2428  CA-2016-169922  Standard Class    MZ-17515     Mary Zewe   \n",
       "6818    6819  CA-2017-163860  Standard Class    LO-17170    Lori Olson   \n",
       "\n",
       "        Segment        Country       City     State  Postal Code  ...  \\\n",
       "2427  Corporate  United States  Arlington     Texas        76017  ...   \n",
       "6818  Corporate  United States     Peoria  Illinois        61604  ...   \n",
       "\n",
       "     Quantity Discount  Profit orderDayofweek orderMonth  orderYear  \\\n",
       "2427        4      0.8 -2.1504            Sat          6       2016   \n",
       "6818        5      0.8 -2.6880            Thu         12       2017   \n",
       "\n",
       "      shipDayofweek  shipMonth  shipYear Sale per unit  \n",
       "2427            Fri          6      2016         0.336  \n",
       "6818            Mon          1      2018         0.336  \n",
       "\n",
       "[2 rows x 26 columns]"
      ]
     },
     "execution_count": 99,
     "metadata": {},
     "output_type": "execute_result"
    }
   ],
   "source": [
    "df[df['Sale per unit']==0.336]"
   ]
  },
  {
   "cell_type": "code",
   "execution_count": 100,
   "metadata": {},
   "outputs": [],
   "source": [
    "df['Profit per unit'] = df['Profit']/df['Quantity']"
   ]
  },
  {
   "cell_type": "code",
   "execution_count": 101,
   "metadata": {},
   "outputs": [
    {
     "data": {
      "text/plain": [
       "0       20.9568\n",
       "1       73.1940\n",
       "2        3.4357\n",
       "3      -76.6062\n",
       "4        1.2582\n",
       "         ...   \n",
       "9989     1.3676\n",
       "9990     7.8166\n",
       "9991     9.6966\n",
       "9992     3.3300\n",
       "9993    36.4740\n",
       "Name: Profit per unit, Length: 9994, dtype: float64"
      ]
     },
     "execution_count": 101,
     "metadata": {},
     "output_type": "execute_result"
    }
   ],
   "source": [
    "df['Profit per unit']"
   ]
  },
  {
   "cell_type": "code",
   "execution_count": 102,
   "metadata": {},
   "outputs": [
    {
     "data": {
      "text/plain": [
       "1679.9952"
      ]
     },
     "execution_count": 102,
     "metadata": {},
     "output_type": "execute_result"
    }
   ],
   "source": [
    "df['Profit per unit'].max()"
   ]
  },
  {
   "cell_type": "code",
   "execution_count": 103,
   "metadata": {},
   "outputs": [
    {
     "data": {
      "text/html": [
       "<div>\n",
       "<style scoped>\n",
       "    .dataframe tbody tr th:only-of-type {\n",
       "        vertical-align: middle;\n",
       "    }\n",
       "\n",
       "    .dataframe tbody tr th {\n",
       "        vertical-align: top;\n",
       "    }\n",
       "\n",
       "    .dataframe thead th {\n",
       "        text-align: right;\n",
       "    }\n",
       "</style>\n",
       "<table border=\"1\" class=\"dataframe\">\n",
       "  <thead>\n",
       "    <tr style=\"text-align: right;\">\n",
       "      <th></th>\n",
       "      <th>Row ID</th>\n",
       "      <th>Order ID</th>\n",
       "      <th>Ship Mode</th>\n",
       "      <th>Customer ID</th>\n",
       "      <th>Customer Name</th>\n",
       "      <th>Segment</th>\n",
       "      <th>Country</th>\n",
       "      <th>City</th>\n",
       "      <th>State</th>\n",
       "      <th>Postal Code</th>\n",
       "      <th>...</th>\n",
       "      <th>Discount</th>\n",
       "      <th>Profit</th>\n",
       "      <th>orderDayofweek</th>\n",
       "      <th>orderMonth</th>\n",
       "      <th>orderYear</th>\n",
       "      <th>shipDayofweek</th>\n",
       "      <th>shipMonth</th>\n",
       "      <th>shipYear</th>\n",
       "      <th>Sale per unit</th>\n",
       "      <th>Profit per unit</th>\n",
       "    </tr>\n",
       "  </thead>\n",
       "  <tbody>\n",
       "    <tr>\n",
       "      <th>4190</th>\n",
       "      <td>4191</td>\n",
       "      <td>CA-2017-166709</td>\n",
       "      <td>Standard Class</td>\n",
       "      <td>HL-15040</td>\n",
       "      <td>Hunter Lopez</td>\n",
       "      <td>Consumer</td>\n",
       "      <td>United States</td>\n",
       "      <td>Newark</td>\n",
       "      <td>Delaware</td>\n",
       "      <td>19711</td>\n",
       "      <td>...</td>\n",
       "      <td>0.0</td>\n",
       "      <td>5039.9856</td>\n",
       "      <td>Fri</td>\n",
       "      <td>11</td>\n",
       "      <td>2017</td>\n",
       "      <td>Wed</td>\n",
       "      <td>11</td>\n",
       "      <td>2017</td>\n",
       "      <td>3499.99</td>\n",
       "      <td>1679.9952</td>\n",
       "    </tr>\n",
       "    <tr>\n",
       "      <th>6826</th>\n",
       "      <td>6827</td>\n",
       "      <td>CA-2016-118689</td>\n",
       "      <td>Standard Class</td>\n",
       "      <td>TC-20980</td>\n",
       "      <td>Tamara Chand</td>\n",
       "      <td>Corporate</td>\n",
       "      <td>United States</td>\n",
       "      <td>Lafayette</td>\n",
       "      <td>Indiana</td>\n",
       "      <td>47905</td>\n",
       "      <td>...</td>\n",
       "      <td>0.0</td>\n",
       "      <td>8399.9760</td>\n",
       "      <td>Sun</td>\n",
       "      <td>10</td>\n",
       "      <td>2016</td>\n",
       "      <td>Sun</td>\n",
       "      <td>10</td>\n",
       "      <td>2016</td>\n",
       "      <td>3499.99</td>\n",
       "      <td>1679.9952</td>\n",
       "    </tr>\n",
       "    <tr>\n",
       "      <th>8153</th>\n",
       "      <td>8154</td>\n",
       "      <td>CA-2017-140151</td>\n",
       "      <td>First Class</td>\n",
       "      <td>RB-19360</td>\n",
       "      <td>Raymond Buch</td>\n",
       "      <td>Consumer</td>\n",
       "      <td>United States</td>\n",
       "      <td>Seattle</td>\n",
       "      <td>Washington</td>\n",
       "      <td>98115</td>\n",
       "      <td>...</td>\n",
       "      <td>0.0</td>\n",
       "      <td>6719.9808</td>\n",
       "      <td>Thu</td>\n",
       "      <td>3</td>\n",
       "      <td>2017</td>\n",
       "      <td>Sat</td>\n",
       "      <td>3</td>\n",
       "      <td>2017</td>\n",
       "      <td>3499.99</td>\n",
       "      <td>1679.9952</td>\n",
       "    </tr>\n",
       "  </tbody>\n",
       "</table>\n",
       "<p>3 rows × 27 columns</p>\n",
       "</div>"
      ],
      "text/plain": [
       "      Row ID        Order ID       Ship Mode Customer ID Customer Name  \\\n",
       "4190    4191  CA-2017-166709  Standard Class    HL-15040  Hunter Lopez   \n",
       "6826    6827  CA-2016-118689  Standard Class    TC-20980  Tamara Chand   \n",
       "8153    8154  CA-2017-140151     First Class    RB-19360  Raymond Buch   \n",
       "\n",
       "        Segment        Country       City       State  Postal Code  ...  \\\n",
       "4190   Consumer  United States     Newark    Delaware        19711  ...   \n",
       "6826  Corporate  United States  Lafayette     Indiana        47905  ...   \n",
       "8153   Consumer  United States    Seattle  Washington        98115  ...   \n",
       "\n",
       "     Discount     Profit orderDayofweek orderMonth orderYear  shipDayofweek  \\\n",
       "4190      0.0  5039.9856            Fri         11      2017            Wed   \n",
       "6826      0.0  8399.9760            Sun         10      2016            Sun   \n",
       "8153      0.0  6719.9808            Thu          3      2017            Sat   \n",
       "\n",
       "      shipMonth  shipYear  Sale per unit Profit per unit  \n",
       "4190         11      2017        3499.99       1679.9952  \n",
       "6826         10      2016        3499.99       1679.9952  \n",
       "8153          3      2017        3499.99       1679.9952  \n",
       "\n",
       "[3 rows x 27 columns]"
      ]
     },
     "execution_count": 103,
     "metadata": {},
     "output_type": "execute_result"
    }
   ],
   "source": [
    "df[df['Profit per unit']==1679.9952]"
   ]
  },
  {
   "cell_type": "code",
   "execution_count": 104,
   "metadata": {},
   "outputs": [
    {
     "data": {
      "text/plain": [
       "(1679.9952, 1679.9952, 1679.9952)"
      ]
     },
     "execution_count": 104,
     "metadata": {},
     "output_type": "execute_result"
    }
   ],
   "source": [
    "5039.9856/3 , 8399.9760/5 , 6719.9808/4"
   ]
  },
  {
   "cell_type": "code",
   "execution_count": 105,
   "metadata": {},
   "outputs": [
    {
     "data": {
      "text/plain": [
       "-1319.9956"
      ]
     },
     "execution_count": 105,
     "metadata": {},
     "output_type": "execute_result"
    }
   ],
   "source": [
    "df['Profit per unit'].min()"
   ]
  },
  {
   "cell_type": "code",
   "execution_count": 106,
   "metadata": {},
   "outputs": [
    {
     "data": {
      "text/html": [
       "<div>\n",
       "<style scoped>\n",
       "    .dataframe tbody tr th:only-of-type {\n",
       "        vertical-align: middle;\n",
       "    }\n",
       "\n",
       "    .dataframe tbody tr th {\n",
       "        vertical-align: top;\n",
       "    }\n",
       "\n",
       "    .dataframe thead th {\n",
       "        text-align: right;\n",
       "    }\n",
       "</style>\n",
       "<table border=\"1\" class=\"dataframe\">\n",
       "  <thead>\n",
       "    <tr style=\"text-align: right;\">\n",
       "      <th></th>\n",
       "      <th>Row ID</th>\n",
       "      <th>Order ID</th>\n",
       "      <th>Ship Mode</th>\n",
       "      <th>Customer ID</th>\n",
       "      <th>Customer Name</th>\n",
       "      <th>Segment</th>\n",
       "      <th>Country</th>\n",
       "      <th>City</th>\n",
       "      <th>State</th>\n",
       "      <th>Postal Code</th>\n",
       "      <th>...</th>\n",
       "      <th>Discount</th>\n",
       "      <th>Profit</th>\n",
       "      <th>orderDayofweek</th>\n",
       "      <th>orderMonth</th>\n",
       "      <th>orderYear</th>\n",
       "      <th>shipDayofweek</th>\n",
       "      <th>shipMonth</th>\n",
       "      <th>shipYear</th>\n",
       "      <th>Sale per unit</th>\n",
       "      <th>Profit per unit</th>\n",
       "    </tr>\n",
       "  </thead>\n",
       "  <tbody>\n",
       "    <tr>\n",
       "      <th>3151</th>\n",
       "      <td>3152</td>\n",
       "      <td>CA-2015-147830</td>\n",
       "      <td>First Class</td>\n",
       "      <td>NF-18385</td>\n",
       "      <td>Natalie Fritzler</td>\n",
       "      <td>Consumer</td>\n",
       "      <td>United States</td>\n",
       "      <td>Newark</td>\n",
       "      <td>Ohio</td>\n",
       "      <td>43055</td>\n",
       "      <td>...</td>\n",
       "      <td>0.7</td>\n",
       "      <td>-2639.9912</td>\n",
       "      <td>Tue</td>\n",
       "      <td>12</td>\n",
       "      <td>2015</td>\n",
       "      <td>Fri</td>\n",
       "      <td>12</td>\n",
       "      <td>2015</td>\n",
       "      <td>899.997</td>\n",
       "      <td>-1319.9956</td>\n",
       "    </tr>\n",
       "    <tr>\n",
       "      <th>7772</th>\n",
       "      <td>7773</td>\n",
       "      <td>CA-2016-108196</td>\n",
       "      <td>Standard Class</td>\n",
       "      <td>CS-12505</td>\n",
       "      <td>Cindy Stewart</td>\n",
       "      <td>Consumer</td>\n",
       "      <td>United States</td>\n",
       "      <td>Lancaster</td>\n",
       "      <td>Ohio</td>\n",
       "      <td>43130</td>\n",
       "      <td>...</td>\n",
       "      <td>0.7</td>\n",
       "      <td>-6599.9780</td>\n",
       "      <td>Fri</td>\n",
       "      <td>11</td>\n",
       "      <td>2016</td>\n",
       "      <td>Fri</td>\n",
       "      <td>12</td>\n",
       "      <td>2016</td>\n",
       "      <td>899.997</td>\n",
       "      <td>-1319.9956</td>\n",
       "    </tr>\n",
       "  </tbody>\n",
       "</table>\n",
       "<p>2 rows × 27 columns</p>\n",
       "</div>"
      ],
      "text/plain": [
       "      Row ID        Order ID       Ship Mode Customer ID     Customer Name  \\\n",
       "3151    3152  CA-2015-147830     First Class    NF-18385  Natalie Fritzler   \n",
       "7772    7773  CA-2016-108196  Standard Class    CS-12505     Cindy Stewart   \n",
       "\n",
       "       Segment        Country       City State  Postal Code  ... Discount  \\\n",
       "3151  Consumer  United States     Newark  Ohio        43055  ...      0.7   \n",
       "7772  Consumer  United States  Lancaster  Ohio        43130  ...      0.7   \n",
       "\n",
       "         Profit orderDayofweek orderMonth orderYear  shipDayofweek  shipMonth  \\\n",
       "3151 -2639.9912            Tue         12      2015            Fri         12   \n",
       "7772 -6599.9780            Fri         11      2016            Fri         12   \n",
       "\n",
       "      shipYear  Sale per unit Profit per unit  \n",
       "3151      2015        899.997      -1319.9956  \n",
       "7772      2016        899.997      -1319.9956  \n",
       "\n",
       "[2 rows x 27 columns]"
      ]
     },
     "execution_count": 106,
     "metadata": {},
     "output_type": "execute_result"
    }
   ],
   "source": [
    "df[df['Profit per unit']==-1319.9956]"
   ]
  },
  {
   "cell_type": "code",
   "execution_count": 107,
   "metadata": {},
   "outputs": [
    {
     "data": {
      "text/plain": [
       "<matplotlib.lines.Line2D at 0x2b3203282e0>"
      ]
     },
     "execution_count": 107,
     "metadata": {},
     "output_type": "execute_result"
    },
    {
     "data": {
      "image/png": "[encoded data removed]",
      "text/plain": [
       "<Figure size 432x288 with 1 Axes>"
      ]
     },
     "metadata": {
      "needs_background": "light"
     },
     "output_type": "display_data"
    }
   ],
   "source": [
    "sns.scatterplot(x='Discount',y='Profit',data=df)\n",
    "plt.axhline(y=0, color='r', linestyle='-')\n"
   ]
  },
  {
   "cell_type": "code",
   "execution_count": 109,
   "metadata": {},
   "outputs": [
    {
     "data": {
      "text/plain": [
       "<matplotlib.lines.Line2D at 0x2b31c41df40>"
      ]
     },
     "execution_count": 109,
     "metadata": {},
     "output_type": "execute_result"
    },
    {
     "data": {
      "image/png": "[encoded data removed]",
      "text/plain": [
       "<Figure size 432x288 with 1 Axes>"
      ]
     },
     "metadata": {
      "needs_background": "light"
     },
     "output_type": "display_data"
    }
   ],
   "source": [
    "sns.scatterplot(x='Sale per unit',y='Profit per unit',data=df)\n",
    "plt.axhline(y=0, color='r', linestyle='-')\n"
   ]
  },
  {
   "cell_type": "code",
   "execution_count": 110,
   "metadata": {},
   "outputs": [
    {
     "data": {
      "text/plain": [
       "<matplotlib.lines.Line2D at 0x2b31f2dde20>"
      ]
     },
     "execution_count": 110,
     "metadata": {},
     "output_type": "execute_result"
    },
    {
     "data": {
      "image/png": "[encoded data removed]",
      "text/plain": [
       "<Figure size 432x288 with 1 Axes>"
      ]
     },
     "metadata": {
      "needs_background": "light"
     },
     "output_type": "display_data"
    }
   ],
   "source": [
    "sns.scatterplot(x='Sales',y='Profit',data=df)\n",
    "plt.axhline(y=0, color='r', linestyle='-')\n"
   ]
  },
  {
   "cell_type": "code",
   "execution_count": null,
   "metadata": {},
   "outputs": [],
   "source": []
  }
 ],
 "metadata": {
  "kernelspec": {
   "display_name": "Python 3",
   "language": "python",
   "name": "python3"
  },
  "language_info": {
   "codemirror_mode": {
    "name": "ipython",
    "version": 3
   },
   "file_extension": ".py",
   "mimetype": "text/x-python",
   "name": "python",
   "nbconvert_exporter": "python",
   "pygments_lexer": "ipython3",
   "version": "3.8.5"
  }
 },
 "nbformat": 4,
 "nbformat_minor": 4
}
